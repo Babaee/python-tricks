{
 "cells": [
  {
   "cell_type": "markdown",
   "metadata": {},
   "source": [
    "# Chap03 - Effective Functions"
   ]
  },
  {
   "cell_type": "markdown",
   "metadata": {},
   "source": [
    "## 3.1 파이썬 함수는 일급 객체다\n",
    "\n",
    "\n",
    "- 파이썬의 함수는 **일급 객체(first-class object)**다.\n",
    "    - 변수에 할당하고, 데이터 구조에 저장하고, 인자로 다른 함수에 전달하고, 다른 함수의 값에서 반환할 수 있다. \n",
    "    \n",
    " \n",
    "- 일급 객체란 다른 객체들에 적용 가능한 연산을 모두 지원하는 객체를 말한다. 함수에 매개변수로 넘기기, 변수에 대입하기와 같은 연산들이 이에 해당한다.\n",
    "\n",
    "\n",
    "- 일급 객체는 다음 조건을 만족해야 한다.\n",
    "    - 변수나 데이터 구조안에 담을 수 있다.\n",
    "    - 파라미터로 전달할 수 있다.\n",
    "    - 반환값(return value)으로 사용할 수 있다.\n",
    "    - 할당에 사용된 이름과 관계없이 고유한 구별이 가능하다.\n",
    "    - 동적으로 프로퍼티 할당이 가능하다."
   ]
  },
  {
   "cell_type": "code",
   "execution_count": 1,
   "metadata": {},
   "outputs": [
    {
     "data": {
      "text/plain": [
       "'HELLO!'"
      ]
     },
     "execution_count": 1,
     "metadata": {},
     "output_type": "execute_result"
    }
   ],
   "source": [
    "# 예제에 사용할 함수\n",
    "def yell(text):\n",
    "    return f'{text.upper()}!'\n",
    "\n",
    "yell('hello')"
   ]
  },
  {
   "cell_type": "markdown",
   "metadata": {},
   "source": [
    " "
   ]
  },
  {
   "cell_type": "markdown",
   "metadata": {},
   "source": [
    "### 함수는 객체다\n",
    "\n",
    "- 파이썬에서 모든 데이터는 객체 또는 객체 간의 관계로 표현된다([링크](https://docs.python.org/3/reference/datamodel.html#objects-values-and-types) 참고)\n",
    "\n",
    "- 문자열, 리스트, 모듈 및 함수 등 모든 것이 객체이다.\n",
    "\n",
    "- 위의 `yell()` 함수 또한 객체이기 때문에 다른 객체와 마찬가지로 다른 변수에 할당할 수 있다."
   ]
  },
  {
   "cell_type": "code",
   "execution_count": 2,
   "metadata": {},
   "outputs": [
    {
     "data": {
      "text/plain": [
       "'WOOF!'"
      ]
     },
     "execution_count": 2,
     "metadata": {},
     "output_type": "execute_result"
    }
   ],
   "source": [
    "# 함수를 호출하는 것이 아니라 \n",
    "# bark라는 변수에 할당\n",
    "bark = yell\n",
    "assert id(bark) == id(yell)\n",
    "\n",
    "# bark를 호출하여 yell을 실행\n",
    "bark('woof')"
   ]
  },
  {
   "cell_type": "markdown",
   "metadata": {},
   "source": [
    " "
   ]
  },
  {
   "cell_type": "markdown",
   "metadata": {},
   "source": [
    "- 함수 객체와 함수 이름은 별개다.\n",
    "\n",
    "- 아래의 결과처럼 원래의 함수 이름인 `yell`을 삭제했지만, `bark`는 여전히 동일한 로직의 함수를 가리키고 있기 때문에 여전히 함수를 호출할 수 있다.\n",
    "\n",
    "\n",
    "![](./images/func.png)"
   ]
  },
  {
   "cell_type": "code",
   "execution_count": 3,
   "metadata": {},
   "outputs": [
    {
     "ename": "NameError",
     "evalue": "name 'yell' is not defined",
     "output_type": "error",
     "traceback": [
      "\u001b[0;31m---------------------------------------------------------------------------\u001b[0m",
      "\u001b[0;31mNameError\u001b[0m                                 Traceback (most recent call last)",
      "\u001b[0;32m<ipython-input-3-1a20c9ccbc80>\u001b[0m in \u001b[0;36m<module>\u001b[0;34m\u001b[0m\n\u001b[1;32m      3\u001b[0m \u001b[0;32mdel\u001b[0m \u001b[0myell\u001b[0m\u001b[0;34m\u001b[0m\u001b[0;34m\u001b[0m\u001b[0m\n\u001b[1;32m      4\u001b[0m \u001b[0;34m\u001b[0m\u001b[0m\n\u001b[0;32m----> 5\u001b[0;31m \u001b[0myell\u001b[0m\u001b[0;34m(\u001b[0m\u001b[0;34m'hello?'\u001b[0m\u001b[0;34m)\u001b[0m\u001b[0;34m\u001b[0m\u001b[0;34m\u001b[0m\u001b[0m\n\u001b[0m",
      "\u001b[0;31mNameError\u001b[0m: name 'yell' is not defined"
     ]
    }
   ],
   "source": [
    "# 함수자체가 아닌 \n",
    "# 함수 이름 yell 삭제\n",
    "del yell\n",
    "\n",
    "yell('hello?')"
   ]
  },
  {
   "cell_type": "code",
   "execution_count": 4,
   "metadata": {},
   "outputs": [
    {
     "data": {
      "text/plain": [
       "'HEY!'"
      ]
     },
     "execution_count": 4,
     "metadata": {},
     "output_type": "execute_result"
    }
   ],
   "source": [
    "bark('hey')"
   ]
  },
  {
   "cell_type": "code",
   "execution_count": 5,
   "metadata": {},
   "outputs": [
    {
     "data": {
      "text/plain": [
       "139781994046872"
      ]
     },
     "execution_count": 5,
     "metadata": {},
     "output_type": "execute_result"
    }
   ],
   "source": [
    "id(bark)"
   ]
  },
  {
   "cell_type": "markdown",
   "metadata": {},
   "source": [
    " "
   ]
  },
  {
   "cell_type": "markdown",
   "metadata": {},
   "source": [
    "- 파이썬은 디버깅을 목적으로 모든 함수를 생성할 때 문자열 식별자를 붙여준다. \n",
    "\n",
    "- `__name__` 속성을 통해 내부 식별자에 접근할 수 있다. \n",
    "\n",
    "- 아래의 출력결과인 `yell`은 함수 자체가 아니라 **함수를 가리키는 변수**일 뿐이다. 함수를 가리키는 변수와 함수 자체는 별개의 대상이다."
   ]
  },
  {
   "cell_type": "code",
   "execution_count": 6,
   "metadata": {},
   "outputs": [
    {
     "data": {
      "text/plain": [
       "'yell'"
      ]
     },
     "execution_count": 6,
     "metadata": {},
     "output_type": "execute_result"
    }
   ],
   "source": [
    "bark.__name__"
   ]
  },
  {
   "cell_type": "markdown",
   "metadata": {},
   "source": [
    " "
   ]
  },
  {
   "cell_type": "markdown",
   "metadata": {},
   "source": [
    "### 함수는 데이터 구조에 저장할 수 있다\n",
    "\n",
    "- 함수는 일급 객체이므로 함수를 데이터 구조에 저장할 수 있다.\n",
    "\n",
    "- 아래의 예제는 리스트에 함수를 추가하는 것이다. 접근하는 방법 또한 다른 객체에 접근하는 방법과 같다."
   ]
  },
  {
   "cell_type": "code",
   "execution_count": 7,
   "metadata": {},
   "outputs": [
    {
     "data": {
      "text/plain": [
       "[<function __main__.yell(text)>,\n",
       " <method 'lower' of 'str' objects>,\n",
       " <method 'capitalize' of 'str' objects>]"
      ]
     },
     "execution_count": 7,
     "metadata": {},
     "output_type": "execute_result"
    }
   ],
   "source": [
    "funcs = [bark, str.lower, str.capitalize]\n",
    "funcs"
   ]
  },
  {
   "cell_type": "code",
   "execution_count": 8,
   "metadata": {},
   "outputs": [
    {
     "name": "stdout",
     "output_type": "stream",
     "text": [
      "<function yell at 0x7f218819e598> HEY THERE!\n",
      "<method 'lower' of 'str' objects> hey there\n",
      "<method 'capitalize' of 'str' objects> Hey there\n"
     ]
    }
   ],
   "source": [
    "for f in funcs:\n",
    "    print(f, f('hey there'))"
   ]
  },
  {
   "cell_type": "code",
   "execution_count": 9,
   "metadata": {},
   "outputs": [
    {
     "data": {
      "text/plain": [
       "'HEYHO!'"
      ]
     },
     "execution_count": 9,
     "metadata": {},
     "output_type": "execute_result"
    }
   ],
   "source": [
    "funcs[0]('heyho')"
   ]
  },
  {
   "cell_type": "markdown",
   "metadata": {},
   "source": [
    " "
   ]
  },
  {
   "cell_type": "markdown",
   "metadata": {},
   "source": [
    "### 함수는 다른 함수로 전달할 수 있다.\n",
    "\n",
    "- 함수는 객체이기 때문에 다른 함수에 인자로 전달할 수 있다.\n",
    "\n",
    "- 아래의 예제는 `greet` 함수에 함수를 인자로 전달하는 예제이다."
   ]
  },
  {
   "cell_type": "code",
   "execution_count": 10,
   "metadata": {},
   "outputs": [],
   "source": [
    "def greet(func):\n",
    "    greeting = func('Hi, I am a Python program')\n",
    "    print(greeting)"
   ]
  },
  {
   "cell_type": "code",
   "execution_count": 11,
   "metadata": {},
   "outputs": [
    {
     "name": "stdout",
     "output_type": "stream",
     "text": [
      "HI, I AM A PYTHON PROGRAM!\n"
     ]
    }
   ],
   "source": [
    "greet(bark)"
   ]
  },
  {
   "cell_type": "code",
   "execution_count": 12,
   "metadata": {},
   "outputs": [
    {
     "name": "stdout",
     "output_type": "stream",
     "text": [
      "hi, i am a python program...\n"
     ]
    }
   ],
   "source": [
    "# 소문자로 출력\n",
    "def whisper(text):\n",
    "    return text.lower() + '...'\n",
    "\n",
    "greet(whisper)"
   ]
  },
  {
   "cell_type": "markdown",
   "metadata": {},
   "source": [
    " "
   ]
  },
  {
   "cell_type": "markdown",
   "metadata": {},
   "source": [
    "- 다른 함수를 인자로 받을 수 있는 함수를 **고차 함수**(higher-order function)라 한다. -> 함수형 프로그래밍\n",
    "\n",
    "- 고차 함수의 대표적인 예는 `map()`함수이다.\n",
    "    - `map()` 함수는 함수 객체와 반복 가능한 객체(이터레이터)를 취해, 반복 가능 객체의 각 요소에 함수를 호출하여 결과를 얻게 해준다."
   ]
  },
  {
   "cell_type": "code",
   "execution_count": 13,
   "metadata": {},
   "outputs": [
    {
     "data": {
      "text/plain": [
       "['HELLO!', 'HEY!', 'HI!']"
      ]
     },
     "execution_count": 13,
     "metadata": {},
     "output_type": "execute_result"
    }
   ],
   "source": [
    "list(\n",
    "    map(bark, ['hello', 'hey', 'hi'])\n",
    ")"
   ]
  },
  {
   "cell_type": "code",
   "execution_count": null,
   "metadata": {},
   "outputs": [],
   "source": []
  }
 ],
 "metadata": {
  "kernelspec": {
   "display_name": "Python 3",
   "language": "python",
   "name": "python3"
  },
  "language_info": {
   "codemirror_mode": {
    "name": "ipython",
    "version": 3
   },
   "file_extension": ".py",
   "mimetype": "text/x-python",
   "name": "python",
   "nbconvert_exporter": "python",
   "pygments_lexer": "ipython3",
   "version": "3.7.1"
  }
 },
 "nbformat": 4,
 "nbformat_minor": 2
}
