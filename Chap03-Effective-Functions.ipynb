{
 "cells": [
  {
   "cell_type": "markdown",
   "metadata": {},
   "source": [
    "# Chap03 - Effective Functions"
   ]
  },
  {
   "cell_type": "markdown",
   "metadata": {},
   "source": [
    "## 3.1 파이썬 함수는 일급 객체다\n",
    "\n",
    "\n",
    "- 파이썬의 함수는 **일급 객체(first-class object)**다.\n",
    "    - 변수에 할당하고, 데이터 구조에 저장하고, 인자로 다른 함수에 전달하고, 다른 함수의 값에서 반환할 수 있다. \n",
    "    \n",
    " \n",
    "- 일급 객체란 다른 객체들에 적용 가능한 연산을 모두 지원하는 객체를 말한다. 함수에 매개변수로 넘기기, 변수에 대입하기와 같은 연산들이 이에 해당한다.\n",
    "\n",
    "\n",
    "- 일급 객체는 다음 조건을 만족해야 한다.\n",
    "    - 변수나 데이터 구조안에 담을 수 있다.\n",
    "    - 파라미터로 전달할 수 있다.\n",
    "    - 반환값(return value)으로 사용할 수 있다.\n",
    "    - 할당에 사용된 이름과 관계없이 고유한 구별이 가능하다.\n",
    "    - 동적으로 프로퍼티 할당이 가능하다."
   ]
  },
  {
   "cell_type": "code",
   "execution_count": 1,
   "metadata": {},
   "outputs": [
    {
     "data": {
      "text/plain": [
       "'HELLO!'"
      ]
     },
     "execution_count": 1,
     "metadata": {},
     "output_type": "execute_result"
    }
   ],
   "source": [
    "# 예제에 사용할 함수\n",
    "def yell(text):\n",
    "    return f'{text.upper()}!'\n",
    "\n",
    "yell('hello')"
   ]
  },
  {
   "cell_type": "markdown",
   "metadata": {},
   "source": [
    " "
   ]
  },
  {
   "cell_type": "markdown",
   "metadata": {},
   "source": [
    "### 3.1.1 함수는 객체다\n",
    "\n",
    "- 파이썬에서 모든 데이터는 객체 또는 객체 간의 관계로 표현된다([링크](https://docs.python.org/3/reference/datamodel.html#objects-values-and-types) 참고)\n",
    "\n",
    "- 문자열, 리스트, 모듈 및 함수 등 모든 것이 객체이다.\n",
    "\n",
    "- 위의 `yell()` 함수 또한 객체이기 때문에 다른 객체와 마찬가지로 다른 변수에 할당할 수 있다."
   ]
  },
  {
   "cell_type": "code",
   "execution_count": 2,
   "metadata": {},
   "outputs": [
    {
     "data": {
      "text/plain": [
       "'WOOF!'"
      ]
     },
     "execution_count": 2,
     "metadata": {},
     "output_type": "execute_result"
    }
   ],
   "source": [
    "# 함수를 호출하는 것이 아니라 \n",
    "# bark라는 변수에 할당\n",
    "bark = yell\n",
    "assert id(bark) == id(yell)\n",
    "\n",
    "# bark를 호출하여 yell을 실행\n",
    "bark('woof')"
   ]
  },
  {
   "cell_type": "markdown",
   "metadata": {},
   "source": [
    " "
   ]
  },
  {
   "cell_type": "markdown",
   "metadata": {},
   "source": [
    "- 함수 객체와 함수 이름은 별개다.\n",
    "\n",
    "- 아래의 결과처럼 원래의 함수 이름인 `yell`을 삭제했지만, `bark`는 여전히 동일한 로직의 함수를 가리키고 있기 때문에 여전히 함수를 호출할 수 있다.\n",
    "\n",
    "\n",
    "![](./images/func.png)"
   ]
  },
  {
   "cell_type": "code",
   "execution_count": 3,
   "metadata": {},
   "outputs": [
    {
     "ename": "NameError",
     "evalue": "name 'yell' is not defined",
     "output_type": "error",
     "traceback": [
      "\u001b[0;31m---------------------------------------------------------------------------\u001b[0m",
      "\u001b[0;31mNameError\u001b[0m                                 Traceback (most recent call last)",
      "\u001b[0;32m<ipython-input-3-1a20c9ccbc80>\u001b[0m in \u001b[0;36m<module>\u001b[0;34m\u001b[0m\n\u001b[1;32m      3\u001b[0m \u001b[0;32mdel\u001b[0m \u001b[0myell\u001b[0m\u001b[0;34m\u001b[0m\u001b[0;34m\u001b[0m\u001b[0m\n\u001b[1;32m      4\u001b[0m \u001b[0;34m\u001b[0m\u001b[0m\n\u001b[0;32m----> 5\u001b[0;31m \u001b[0myell\u001b[0m\u001b[0;34m(\u001b[0m\u001b[0;34m'hello?'\u001b[0m\u001b[0;34m)\u001b[0m\u001b[0;34m\u001b[0m\u001b[0;34m\u001b[0m\u001b[0m\n\u001b[0m",
      "\u001b[0;31mNameError\u001b[0m: name 'yell' is not defined"
     ]
    }
   ],
   "source": [
    "# 함수자체가 아닌 \n",
    "# 함수 이름 yell 삭제\n",
    "del yell\n",
    "\n",
    "yell('hello?')"
   ]
  },
  {
   "cell_type": "code",
   "execution_count": 4,
   "metadata": {},
   "outputs": [
    {
     "data": {
      "text/plain": [
       "'HEY!'"
      ]
     },
     "execution_count": 4,
     "metadata": {},
     "output_type": "execute_result"
    }
   ],
   "source": [
    "bark('hey')"
   ]
  },
  {
   "cell_type": "code",
   "execution_count": 5,
   "metadata": {},
   "outputs": [
    {
     "data": {
      "text/plain": [
       "140524351345256"
      ]
     },
     "execution_count": 5,
     "metadata": {},
     "output_type": "execute_result"
    }
   ],
   "source": [
    "id(bark)"
   ]
  },
  {
   "cell_type": "markdown",
   "metadata": {},
   "source": [
    " "
   ]
  },
  {
   "cell_type": "markdown",
   "metadata": {},
   "source": [
    "- 파이썬은 디버깅을 목적으로 모든 함수를 생성할 때 문자열 식별자를 붙여준다. \n",
    "\n",
    "- `__name__` 속성을 통해 내부 식별자에 접근할 수 있다. \n",
    "\n",
    "- 아래의 출력결과인 `yell`은 함수 자체가 아니라 **함수를 가리키는 변수**일 뿐이다. 함수를 가리키는 변수와 함수 자체는 별개의 대상이다."
   ]
  },
  {
   "cell_type": "code",
   "execution_count": 6,
   "metadata": {},
   "outputs": [
    {
     "data": {
      "text/plain": [
       "'yell'"
      ]
     },
     "execution_count": 6,
     "metadata": {},
     "output_type": "execute_result"
    }
   ],
   "source": [
    "bark.__name__"
   ]
  },
  {
   "cell_type": "markdown",
   "metadata": {},
   "source": [
    " "
   ]
  },
  {
   "cell_type": "markdown",
   "metadata": {},
   "source": [
    "### 3.1.2 함수는 데이터 구조에 저장할 수 있다\n",
    "\n",
    "- 함수는 일급 객체이므로 함수를 데이터 구조에 저장할 수 있다.\n",
    "\n",
    "- 아래의 예제는 리스트에 함수를 추가하는 것이다. 접근하는 방법 또한 다른 객체에 접근하는 방법과 같다."
   ]
  },
  {
   "cell_type": "code",
   "execution_count": 7,
   "metadata": {},
   "outputs": [
    {
     "data": {
      "text/plain": [
       "[<function __main__.yell(text)>,\n",
       " <method 'lower' of 'str' objects>,\n",
       " <method 'capitalize' of 'str' objects>]"
      ]
     },
     "execution_count": 7,
     "metadata": {},
     "output_type": "execute_result"
    }
   ],
   "source": [
    "funcs = [bark, str.lower, str.capitalize]\n",
    "funcs"
   ]
  },
  {
   "cell_type": "code",
   "execution_count": 8,
   "metadata": {},
   "outputs": [
    {
     "name": "stdout",
     "output_type": "stream",
     "text": [
      "<function yell at 0x7fce600b5268> HEY THERE!\n",
      "<method 'lower' of 'str' objects> hey there\n",
      "<method 'capitalize' of 'str' objects> Hey there\n"
     ]
    }
   ],
   "source": [
    "for f in funcs:\n",
    "    print(f, f('hey there'))"
   ]
  },
  {
   "cell_type": "code",
   "execution_count": 9,
   "metadata": {},
   "outputs": [
    {
     "data": {
      "text/plain": [
       "'HEYHO!'"
      ]
     },
     "execution_count": 9,
     "metadata": {},
     "output_type": "execute_result"
    }
   ],
   "source": [
    "funcs[0]('heyho')"
   ]
  },
  {
   "cell_type": "markdown",
   "metadata": {},
   "source": [
    " "
   ]
  },
  {
   "cell_type": "markdown",
   "metadata": {},
   "source": [
    "### 3.1.3 함수는 다른 함수로 전달할 수 있다.\n",
    "\n",
    "- 함수는 객체이기 때문에 다른 함수에 인자로 전달할 수 있다.\n",
    "\n",
    "- 아래의 예제는 `greet` 함수에 함수를 인자로 전달하는 예제이다."
   ]
  },
  {
   "cell_type": "code",
   "execution_count": 10,
   "metadata": {},
   "outputs": [],
   "source": [
    "def greet(func):\n",
    "    greeting = func('Hi, I am a Python program')\n",
    "    print(greeting)"
   ]
  },
  {
   "cell_type": "code",
   "execution_count": 11,
   "metadata": {},
   "outputs": [
    {
     "name": "stdout",
     "output_type": "stream",
     "text": [
      "HI, I AM A PYTHON PROGRAM!\n"
     ]
    }
   ],
   "source": [
    "greet(bark)"
   ]
  },
  {
   "cell_type": "code",
   "execution_count": 12,
   "metadata": {},
   "outputs": [
    {
     "name": "stdout",
     "output_type": "stream",
     "text": [
      "hi, i am a python program...\n"
     ]
    }
   ],
   "source": [
    "# 소문자로 출력\n",
    "def whisper(text):\n",
    "    return text.lower() + '...'\n",
    "\n",
    "greet(whisper)"
   ]
  },
  {
   "cell_type": "markdown",
   "metadata": {},
   "source": [
    " "
   ]
  },
  {
   "cell_type": "markdown",
   "metadata": {},
   "source": [
    "- 다른 함수를 인자로 받을 수 있는 함수를 **고차 함수**(higher-order function)라 한다. >> 함수형 프로그래밍\n",
    "\n",
    "- 고차 함수의 대표적인 예는 `map()`함수이다.\n",
    "    - `map()` 함수는 함수 객체와 반복 가능한 객체(이터레이터)를 취해, 반복 가능 객체의 각 요소에 함수를 호출하여 결과를 얻게 해준다."
   ]
  },
  {
   "cell_type": "code",
   "execution_count": 13,
   "metadata": {},
   "outputs": [
    {
     "data": {
      "text/plain": [
       "['HELLO!', 'HEY!', 'HI!']"
      ]
     },
     "execution_count": 13,
     "metadata": {},
     "output_type": "execute_result"
    }
   ],
   "source": [
    "list(\n",
    "    map(bark, ['hello', 'hey', 'hi'])\n",
    ")"
   ]
  },
  {
   "cell_type": "markdown",
   "metadata": {},
   "source": [
    " "
   ]
  },
  {
   "cell_type": "markdown",
   "metadata": {},
   "source": [
    "### 3.1.4 함수는 중첩될 수 있다.\n",
    "\n",
    "- 파이썬은 함수 안에서 다른 함수를 정의할 수 있다. \n",
    "\n",
    "- 이를 '중첩 함수' 또는 '내부 함수'라고 한다. \n",
    "\n",
    "- 아래의 예제는 `speak` 함수가 호출될 때마다 내부 함수인 `whisper_`가 호출되는 예제이다."
   ]
  },
  {
   "cell_type": "code",
   "execution_count": 17,
   "metadata": {},
   "outputs": [],
   "source": [
    "def speak(text):\n",
    "    def whisper_(t):  # 내부함수 정의\n",
    "        return t.lower() + '...'\n",
    "    return whisper(text)"
   ]
  },
  {
   "cell_type": "code",
   "execution_count": 15,
   "metadata": {},
   "outputs": [
    {
     "data": {
      "text/plain": [
       "'hello, world...'"
      ]
     },
     "execution_count": 15,
     "metadata": {},
     "output_type": "execute_result"
    }
   ],
   "source": [
    "speak('Hello, World')"
   ]
  },
  {
   "cell_type": "markdown",
   "metadata": {},
   "source": [
    " "
   ]
  },
  {
   "cell_type": "markdown",
   "metadata": {},
   "source": [
    "- 내부 함수인 `whisper_`는 `speak` 함수 바깥에서는 존재하지 않는 함수다."
   ]
  },
  {
   "cell_type": "code",
   "execution_count": 18,
   "metadata": {},
   "outputs": [
    {
     "ename": "NameError",
     "evalue": "name 'whisper_' is not defined",
     "output_type": "error",
     "traceback": [
      "\u001b[0;31m---------------------------------------------------------------------------\u001b[0m",
      "\u001b[0;31mNameError\u001b[0m                                 Traceback (most recent call last)",
      "\u001b[0;32m<ipython-input-18-1db155d1ba1d>\u001b[0m in \u001b[0;36m<module>\u001b[0;34m\u001b[0m\n\u001b[0;32m----> 1\u001b[0;31m \u001b[0mwhisper_\u001b[0m\u001b[0;34m(\u001b[0m\u001b[0;34m'yo'\u001b[0m\u001b[0;34m)\u001b[0m\u001b[0;34m\u001b[0m\u001b[0;34m\u001b[0m\u001b[0m\n\u001b[0m",
      "\u001b[0;31mNameError\u001b[0m: name 'whisper_' is not defined"
     ]
    }
   ],
   "source": [
    "whisper_('yo')"
   ]
  },
  {
   "cell_type": "code",
   "execution_count": 19,
   "metadata": {},
   "outputs": [
    {
     "ename": "AttributeError",
     "evalue": "'function' object has no attribute 'whisper_'",
     "output_type": "error",
     "traceback": [
      "\u001b[0;31m---------------------------------------------------------------------------\u001b[0m",
      "\u001b[0;31mAttributeError\u001b[0m                            Traceback (most recent call last)",
      "\u001b[0;32m<ipython-input-19-680bf7ac3990>\u001b[0m in \u001b[0;36m<module>\u001b[0;34m\u001b[0m\n\u001b[0;32m----> 1\u001b[0;31m \u001b[0mspeak\u001b[0m\u001b[0;34m.\u001b[0m\u001b[0mwhisper_\u001b[0m\u001b[0;34m\u001b[0m\u001b[0;34m\u001b[0m\u001b[0m\n\u001b[0m",
      "\u001b[0;31mAttributeError\u001b[0m: 'function' object has no attribute 'whisper_'"
     ]
    }
   ],
   "source": [
    "speak.whisper_"
   ]
  },
  {
   "cell_type": "markdown",
   "metadata": {},
   "source": [
    " "
   ]
  },
  {
   "cell_type": "markdown",
   "metadata": {},
   "source": [
    "#### 내부 함수에 접근하는 방법\n",
    "\n",
    "- 아래와 같이 부모 함수의 호출자에 반환할 수 있다.\n",
    "\n",
    "- `volume` 인자를 통해 내부 함수를 호출하지 않고 반환해 준다."
   ]
  },
  {
   "cell_type": "code",
   "execution_count": 20,
   "metadata": {},
   "outputs": [],
   "source": [
    "def get_speak_func(volume):\n",
    "    def whisper(text):\n",
    "        return text.lower() + '...'\n",
    "    def yell(text):\n",
    "        return text.upper() + '!'\n",
    "    if volume > 0.5:\n",
    "        return yell\n",
    "    else:\n",
    "        return whisper"
   ]
  },
  {
   "cell_type": "code",
   "execution_count": 21,
   "metadata": {},
   "outputs": [
    {
     "data": {
      "text/plain": [
       "<function __main__.get_speak_func.<locals>.whisper(text)>"
      ]
     },
     "execution_count": 21,
     "metadata": {},
     "output_type": "execute_result"
    }
   ],
   "source": [
    "get_speak_func(0.3)"
   ]
  },
  {
   "cell_type": "code",
   "execution_count": 22,
   "metadata": {},
   "outputs": [
    {
     "data": {
      "text/plain": [
       "<function __main__.get_speak_func.<locals>.yell(text)>"
      ]
     },
     "execution_count": 22,
     "metadata": {},
     "output_type": "execute_result"
    }
   ],
   "source": [
    "get_speak_func(0.7)"
   ]
  },
  {
   "cell_type": "code",
   "execution_count": 23,
   "metadata": {},
   "outputs": [
    {
     "data": {
      "text/plain": [
       "'HELLO!'"
      ]
     },
     "execution_count": 23,
     "metadata": {},
     "output_type": "execute_result"
    }
   ],
   "source": [
    "speak_func = get_speak_func(0.7)\n",
    "speak_func('Hello')"
   ]
  },
  {
   "cell_type": "markdown",
   "metadata": {},
   "source": [
    " "
   ]
  },
  {
   "cell_type": "markdown",
   "metadata": {},
   "source": [
    "### 3.1.5 함수는 지역 상태를 포착할 수 있다\n",
    "\n",
    "- 내부 함수는 부모 함수에 정의된 파라미터에 접근할 수 있다.\n",
    "\n",
    "- 마치, 인자의 값을 포착하고 '기억'하는 것처럼 보인다.\n",
    "\n",
    "- 이러한, 함수를 렉시컬 클로저(lexical closure) 또는 **클로저** 라고 한다.\n",
    "    - 클로저는 프로그램 흐름이 더 이상 해당 범위에 있지 않은 경우에도 값들을 기억한다."
   ]
  },
  {
   "cell_type": "code",
   "execution_count": 24,
   "metadata": {},
   "outputs": [],
   "source": [
    "def get_speak_func(text, volume):\n",
    "    def whisper():\n",
    "        return text.lower() + '...'\n",
    "    def yell():\n",
    "        return text.upper() + '...'\n",
    "    if volume > 0.5:\n",
    "        return yell\n",
    "    else:\n",
    "        return whisper"
   ]
  },
  {
   "cell_type": "code",
   "execution_count": 25,
   "metadata": {},
   "outputs": [
    {
     "data": {
      "text/plain": [
       "'HELLO, WORLD...'"
      ]
     },
     "execution_count": 25,
     "metadata": {},
     "output_type": "execute_result"
    }
   ],
   "source": [
    "get_speak_func('Hello, World', 0.7)()"
   ]
  },
  {
   "cell_type": "code",
   "execution_count": 26,
   "metadata": {},
   "outputs": [],
   "source": [
    "def make_adder(n):\n",
    "    def add(x):\n",
    "        return x + n\n",
    "    return add"
   ]
  },
  {
   "cell_type": "code",
   "execution_count": 27,
   "metadata": {},
   "outputs": [],
   "source": [
    "plus_3 = make_adder(3)\n",
    "plus_5 = make_adder(5)"
   ]
  },
  {
   "cell_type": "code",
   "execution_count": 28,
   "metadata": {},
   "outputs": [
    {
     "data": {
      "text/plain": [
       "7"
      ]
     },
     "execution_count": 28,
     "metadata": {},
     "output_type": "execute_result"
    }
   ],
   "source": [
    "plus_3(4)"
   ]
  },
  {
   "cell_type": "code",
   "execution_count": 29,
   "metadata": {},
   "outputs": [
    {
     "data": {
      "text/plain": [
       "9"
      ]
     },
     "execution_count": 29,
     "metadata": {},
     "output_type": "execute_result"
    }
   ],
   "source": [
    "plus_5(4)"
   ]
  },
  {
   "cell_type": "markdown",
   "metadata": {},
   "source": [
    " "
   ]
  },
  {
   "cell_type": "markdown",
   "metadata": {},
   "source": [
    "### 3.1.6 객체(클래스)는 함수처럼 동작할 수 있다\n",
    "\n",
    "- 객체가 호출 가능하다는 의미는 객체에 `()` 형식의 함수 호출 문법을 사용해 인자를 전달할 수 있음을 의미한다.\n",
    "\n",
    "- 이러한 기능은 `__call__` 던더 메서드로 구현할 수 있다."
   ]
  },
  {
   "cell_type": "code",
   "execution_count": 30,
   "metadata": {},
   "outputs": [],
   "source": [
    "class Adder:\n",
    "    def __init__(self, n):\n",
    "        self.n = n\n",
    "    def __call__(self, x):\n",
    "        return self.n +x"
   ]
  },
  {
   "cell_type": "code",
   "execution_count": 31,
   "metadata": {},
   "outputs": [
    {
     "data": {
      "text/plain": [
       "7"
      ]
     },
     "execution_count": 31,
     "metadata": {},
     "output_type": "execute_result"
    }
   ],
   "source": [
    "plus_3 = Adder(3)\n",
    "plus_3(4)"
   ]
  },
  {
   "cell_type": "markdown",
   "metadata": {},
   "source": [
    " "
   ]
  },
  {
   "cell_type": "markdown",
   "metadata": {},
   "source": [
    "### 3.1.7 정리\n",
    "\n",
    "- 파이썬은 모든 것이 객체이다. 함수 또한 객체이며 함수를 변수에 할당하고 데이터 구조에 저장하고 다른 함수로 전달하거나 다른 함수로 부터 반환 받을 수 있다.\n",
    "\n",
    "- 함수는 중첩될 수 있으며, 일부 상태(인자)를 포착하여 전달할 수 있다. 이를 클로저라 한다.\n",
    "\n",
    "-  `__call__` 던더 메서드를 이용해 객체를 함수처럼 호출 가능하게 할 수 있다."
   ]
  },
  {
   "cell_type": "markdown",
   "metadata": {},
   "source": [
    " "
   ]
  },
  {
   "cell_type": "markdown",
   "metadata": {},
   "source": [
    "## 3.2 람다는 단일 표현식 함수다\n",
    "\n",
    "- `lambda` 키워드는 간단한 익명의 함수를 선언할 수 있는 방법이다. \n",
    "\n",
    "- `lambda` 함수는 `def`로 선언된 일반 함수 처럼 작동하며, 함수 객체가 필요할 때마다 사용할 수 있다."
   ]
  },
  {
   "cell_type": "code",
   "execution_count": 1,
   "metadata": {},
   "outputs": [
    {
     "data": {
      "text/plain": [
       "8"
      ]
     },
     "execution_count": 1,
     "metadata": {},
     "output_type": "execute_result"
    }
   ],
   "source": [
    "# lambda를 이용한 덧셈을 수행하는 함수\n",
    "add = lambda x, y: x + y\n",
    "add(5, 3)"
   ]
  },
  {
   "cell_type": "code",
   "execution_count": 3,
   "metadata": {},
   "outputs": [
    {
     "data": {
      "text/plain": [
       "8"
      ]
     },
     "execution_count": 3,
     "metadata": {},
     "output_type": "execute_result"
    }
   ],
   "source": [
    "# def를 이용한 덧셈을 수행하는 함수\n",
    "def add(x, y):\n",
    "    return x + y\n",
    "\n",
    "add(5, 3)"
   ]
  },
  {
   "cell_type": "markdown",
   "metadata": {},
   "source": [
    " "
   ]
  },
  {
   "cell_type": "markdown",
   "metadata": {},
   "source": [
    "- 아래의 예제는 `lambda`를 사용해 인라인으로 작성된 함수다.\n",
    "\n",
    "- 즉, 람다 표현식을 일반함수처럼 바로 호출하여 즉시 수행하도록한 함수다."
   ]
  },
  {
   "cell_type": "code",
   "execution_count": 4,
   "metadata": {},
   "outputs": [
    {
     "data": {
      "text/plain": [
       "8"
      ]
     },
     "execution_count": 4,
     "metadata": {},
     "output_type": "execute_result"
    }
   ],
   "source": [
    "(lambda x, y: x + y)(5, 3)"
   ]
  },
  {
   "cell_type": "markdown",
   "metadata": {},
   "source": [
    " "
   ]
  },
  {
   "cell_type": "markdown",
   "metadata": {},
   "source": [
    "### 람다와 일반함수의 다른점\n",
    "\n",
    "- 람다 함수는 **단일 표현식**으로 제한된다.\n",
    "\n",
    "- 따라서, 람다 함수에는 명령문이나 주석을 사용할 수 없으며, `return` 또한 사용할 수 없다.\n",
    "\n",
    "- 람다 함수는 실행될 때, 결과를 자동으로 반환 해준다."
   ]
  },
  {
   "cell_type": "markdown",
   "metadata": {},
   "source": [
    " "
   ]
  },
  {
   "cell_type": "markdown",
   "metadata": {},
   "source": [
    "### 3.2.1 람다를 사용할 수 있는 경우\n",
    "\n",
    "- 함수 객체를 제공해야 할 때마다 람다 표현식을 사용할 수 있다.\n",
    "    \n",
    "- 예를 들어, `sort()`함수에서 `key`인자에 람다함수를 이용해 리스트를 정렬하는 방법    "
   ]
  },
  {
   "cell_type": "code",
   "execution_count": 6,
   "metadata": {},
   "outputs": [
    {
     "data": {
      "text/plain": [
       "[(4, 'a'), (2, 'b'), (3, 'c'), (1, 'd')]"
      ]
     },
     "execution_count": 6,
     "metadata": {},
     "output_type": "execute_result"
    }
   ],
   "source": [
    "tuples = [(1, 'd'), (2, 'b'), (4, 'a'), (3, 'c')]\n",
    "\n",
    "# lambda를 이용한 정렬\n",
    "# tuple의 두 번째 값을 기준으로 정렬\n",
    "# ex. (1, 'd') -> 'd'를 기준으로 정렬\n",
    "sorted(tuples, key=lambda x: x[1])"
   ]
  },
  {
   "cell_type": "code",
   "execution_count": 7,
   "metadata": {},
   "outputs": [
    {
     "data": {
      "text/plain": [
       "[0, -1, 1, -2, 2, -3, 3, -4, 4, -5, 5]"
      ]
     },
     "execution_count": 7,
     "metadata": {},
     "output_type": "execute_result"
    }
   ],
   "source": [
    "# -5 ~ 5 까지 정렬\n",
    "# 제곱의 값을 기준으로 정렬\n",
    "sorted(range(-5, 6), key=lambda x: x * x)"
   ]
  },
  {
   "cell_type": "markdown",
   "metadata": {},
   "source": [
    " "
   ]
  },
  {
   "cell_type": "markdown",
   "metadata": {},
   "source": [
    "- 람다는 내부 함수로도 사용될 수 있다. >> *(렉시컬) 클로저*"
   ]
  },
  {
   "cell_type": "code",
   "execution_count": 8,
   "metadata": {},
   "outputs": [],
   "source": [
    "def make_adder(n):\n",
    "    return lambda x: x + n"
   ]
  },
  {
   "cell_type": "code",
   "execution_count": 9,
   "metadata": {},
   "outputs": [],
   "source": [
    "plus_3 = make_adder(3)\n",
    "plus_5 = make_adder(5)"
   ]
  },
  {
   "cell_type": "code",
   "execution_count": 10,
   "metadata": {},
   "outputs": [
    {
     "data": {
      "text/plain": [
       "7"
      ]
     },
     "execution_count": 10,
     "metadata": {},
     "output_type": "execute_result"
    }
   ],
   "source": [
    "plus_3(4)"
   ]
  },
  {
   "cell_type": "code",
   "execution_count": 11,
   "metadata": {},
   "outputs": [
    {
     "data": {
      "text/plain": [
       "9"
      ]
     },
     "execution_count": 11,
     "metadata": {},
     "output_type": "execute_result"
    }
   ],
   "source": [
    "plus_5(4)"
   ]
  },
  {
   "cell_type": "markdown",
   "metadata": {},
   "source": [
    " "
   ]
  },
  {
   "cell_type": "markdown",
   "metadata": {},
   "source": [
    "### 3.2.2 람다 함수를 자제해야 하는 경우\n",
    "\n",
    "- '멋져 보이는' 코드 보다는 '효율적인' 코드를 작성하자!"
   ]
  },
  {
   "cell_type": "code",
   "execution_count": 13,
   "metadata": {},
   "outputs": [
    {
     "name": "stdout",
     "output_type": "stream",
     "text": [
      "Wroom!\n"
     ]
    }
   ],
   "source": [
    "# 나쁜 코드\n",
    "class Car:\n",
    "    rev = lambda self: print('Wroom!')\n",
    "    crash = lambda self: print('Boom!')\n",
    "    \n",
    "    \n",
    "my_car = Car()\n",
    "my_car.rev()"
   ]
  },
  {
   "cell_type": "code",
   "execution_count": 14,
   "metadata": {},
   "outputs": [
    {
     "data": {
      "text/plain": [
       "[0, 2, 4, 6, 8, 10, 12, 14]"
      ]
     },
     "execution_count": 14,
     "metadata": {},
     "output_type": "execute_result"
    }
   ],
   "source": [
    "# 나쁜 코드\n",
    "list(filter(lambda x: x % 2 == 0, range(16)))"
   ]
  },
  {
   "cell_type": "code",
   "execution_count": 15,
   "metadata": {},
   "outputs": [
    {
     "data": {
      "text/plain": [
       "[0, 2, 4, 6, 8, 10, 12, 14]"
      ]
     },
     "execution_count": 15,
     "metadata": {},
     "output_type": "execute_result"
    }
   ],
   "source": [
    "# 더 나은 코드\n",
    "[x for x in range(16) if x % 2 == 0]"
   ]
  },
  {
   "cell_type": "markdown",
   "metadata": {},
   "source": [
    " "
   ]
  },
  {
   "cell_type": "markdown",
   "metadata": {},
   "source": [
    "### 3.2.3 정리\n",
    "\n",
    "- 람다 함수는 익명의 단일 표현식 함수다.\n",
    "\n",
    "- 람다 함수는 일반적인 파이썬 문을 사용할 수 없고, 암시적으로 `return`을 포함한다.\n",
    "\n",
    "- '멋져 보이는' 코드 보다는 '효율적인' 코드를 작성하자!"
   ]
  },
  {
   "cell_type": "markdown",
   "metadata": {},
   "source": [
    " "
   ]
  },
  {
   "cell_type": "markdown",
   "metadata": {},
   "source": [
    "## 3.3 데코레이터의 힘\n",
    "\n",
    "- 데코레이터(decorator)는 호출 가능 객체(*함수, 메서드, 클래스*)를 **수정하지 않고**, 그 동작을 **확장, 수정**할 수 있게 해준다.\n",
    "\n",
    "- 기존 클래스나 함수의 동작에 기능을 덧붙이고 싶을 때 데코레이터가 유용하다.\n",
    "    - 로그 남기기\n",
    "    - 접근 제어 및 인증 시행\n",
    "    - 계측 및 시간 측정\n",
    "    - 비율 제한\n",
    "    - 캐싱 및 기타\n",
    "    \n",
    "    \n",
    "- 데코레이터를 이해하는 데 있어, 가장 중요한 일급 함수의 내용은 다음과 같다.\n",
    "    - **함수는 객체다** :변수에 할당되고 다른 함수로 전달되거나 다른 함수로 부터 반환될 수 있다.\n",
    "    - **함수는 다른 함수 내부에서 정의될 수 있다** : 자식(내부) 함수 부모 함수의 로컬 상태를 포착할 수 있다(클로저)."
   ]
  },
  {
   "cell_type": "markdown",
   "metadata": {},
   "source": [
    " "
   ]
  },
  {
   "cell_type": "markdown",
   "metadata": {},
   "source": [
    "### 3.3.1 데코레이터 기초\n",
    "\n",
    "- 데코레이터는 다른 함수를 '장식'하거나 '포장'하고, 그렇게 감싼 함수를 실행되기 전과 후에 다른 코드를 실행할 수 있게 해준다.\n",
    "\n",
    "- 데코레이터를 사용하면 재사용 가능한 블록(block)을 정의할 수 있는데, 그 블록으로 다른 함수의 동작을 변경하거나 확장할 수 있다.\n",
    "\n",
    "- 데코레이터는 호출 가능한 객체를 입력받아 다른 객체를 반환하는 호출 가능한 객체이다."
   ]
  },
  {
   "cell_type": "code",
   "execution_count": 14,
   "metadata": {},
   "outputs": [],
   "source": [
    "# 간단한 데코레이터 예제\n",
    "def null_decorator(func):\n",
    "    return func"
   ]
  },
  {
   "cell_type": "code",
   "execution_count": 15,
   "metadata": {},
   "outputs": [
    {
     "data": {
      "text/plain": [
       "'Hello!'"
      ]
     },
     "execution_count": 15,
     "metadata": {},
     "output_type": "execute_result"
    }
   ],
   "source": [
    "# @ 사용하지 않고 함수 호출하기\n",
    "def greet():\n",
    "    return 'Hello!'\n",
    "\n",
    "greet = null_decorator(greet)\n",
    "greet()"
   ]
  },
  {
   "cell_type": "code",
   "execution_count": 16,
   "metadata": {},
   "outputs": [
    {
     "data": {
      "text/plain": [
       "'Hello!'"
      ]
     },
     "execution_count": 16,
     "metadata": {},
     "output_type": "execute_result"
    }
   ],
   "source": [
    "# 위와 같은 기능을 @를 사용\n",
    "@null_decorator\n",
    "def greet():\n",
    "    return 'Hello!'\n",
    "\n",
    "greet()"
   ]
  },
  {
   "cell_type": "code",
   "execution_count": 17,
   "metadata": {},
   "outputs": [
    {
     "data": {
      "text/plain": [
       "'greet >>> <function greet at 0x7fa3303c22f0>'"
      ]
     },
     "execution_count": 17,
     "metadata": {},
     "output_type": "execute_result"
    }
   ],
   "source": [
    "f'greet >>> {greet}'"
   ]
  },
  {
   "cell_type": "code",
   "execution_count": 18,
   "metadata": {},
   "outputs": [
    {
     "data": {
      "text/plain": [
       "'null_decorator(greet) >>> <function greet at 0x7fa3303c22f0>'"
      ]
     },
     "execution_count": 18,
     "metadata": {},
     "output_type": "execute_result"
    }
   ],
   "source": [
    "f'null_decorator(greet) >>> {null_decorator(greet)}'"
   ]
  },
  {
   "cell_type": "markdown",
   "metadata": {},
   "source": [
    " "
   ]
  },
  {
   "cell_type": "markdown",
   "metadata": {},
   "source": [
    "- 위의 예제에서 `@null_decorator`는 `greet()`함수가 먼저 정의된 다음, 데코레이터가 실행된다. \n",
    "\n",
    "- 따라서, `greet()`함수를 `null_decorator()`함수의 인자에 넣어주는 것과 같다고 볼 수 있다(?)."
   ]
  },
  {
   "cell_type": "code",
   "execution_count": 6,
   "metadata": {},
   "outputs": [
    {
     "data": {
      "text/plain": [
       "'Hello!'"
      ]
     },
     "execution_count": 6,
     "metadata": {},
     "output_type": "execute_result"
    }
   ],
   "source": [
    "# 나한테 와닿는 것은\n",
    "# 클로저를 데코레이터로 표현한듯함\n",
    "# 위의 예제를 내부 함수를 사용해서 나타낼 수 있다.\n",
    "# 위의 @null_decorator와 같지 않나?...\n",
    "def null_decorator2():\n",
    "    def greet2():\n",
    "        return 'Hello!'\n",
    "    return greet2()\n",
    "\n",
    "null_decorator2()"
   ]
  },
  {
   "cell_type": "markdown",
   "metadata": {},
   "source": [
    " "
   ]
  },
  {
   "cell_type": "markdown",
   "metadata": {},
   "source": [
    "### 3.3.2 데코레이터는 동작을 수정할 수 있다\n",
    "\n",
    "- 이번에는 데코레이터를 이용해 기존의 함수 `greet()`을 수정하지 않고, 출력결과를 다르게 변경하는 예제이다.\n",
    "\n",
    "- 데코레이터로 사용(?)되는 메서드는 클로저(내부 함수)로 구성해야 한다.\n",
    "    - 아래의 예제인 `uppercase()` 함수에서 결과를 수정할 수 있는 내부함수 `wrapper()`를 정의하고 `wrapper`를 반환 해준다."
   ]
  },
  {
   "cell_type": "code",
   "execution_count": 19,
   "metadata": {},
   "outputs": [],
   "source": [
    "def uppercase(func):\n",
    "    def wrapper():\n",
    "        original_result = func()\n",
    "        modified_result = original_result.upper()\n",
    "        return modified_result\n",
    "    return wrapper"
   ]
  },
  {
   "cell_type": "code",
   "execution_count": 20,
   "metadata": {},
   "outputs": [
    {
     "data": {
      "text/plain": [
       "'HELLO!'"
      ]
     },
     "execution_count": 20,
     "metadata": {},
     "output_type": "execute_result"
    }
   ],
   "source": [
    "@uppercase\n",
    "def greet():\n",
    "    return 'Hello!'\n",
    "\n",
    "greet()"
   ]
  },
  {
   "cell_type": "code",
   "execution_count": 21,
   "metadata": {},
   "outputs": [
    {
     "data": {
      "text/plain": [
       "'greet >>> <function uppercase.<locals>.wrapper at 0x7fa3302a88c8>'"
      ]
     },
     "execution_count": 21,
     "metadata": {},
     "output_type": "execute_result"
    }
   ],
   "source": [
    "f'greet >>> {greet}'"
   ]
  },
  {
   "cell_type": "code",
   "execution_count": 22,
   "metadata": {},
   "outputs": [
    {
     "data": {
      "text/plain": [
       "'uppercase(greet) >>> <function uppercase.<locals>.wrapper at 0x7fa3302a8ae8>'"
      ]
     },
     "execution_count": 22,
     "metadata": {},
     "output_type": "execute_result"
    }
   ],
   "source": [
    "f'uppercase(greet) >>> {uppercase(greet)}'"
   ]
  },
  {
   "cell_type": "markdown",
   "metadata": {},
   "source": [
    " "
   ]
  },
  {
   "cell_type": "markdown",
   "metadata": {},
   "source": [
    "### 3.3.3 다중 데코레이터를 함수에 적용하기\n",
    "\n",
    "- 한 함수에 데코레이터를 여러 개 적용할 수 있다.\n",
    "\n",
    "- 아래의 예제는 데코레이터를 2개 적용했을 때 어떤 순서로 적용되는지 확인하는 예제이다.\n",
    "\n",
    "- 데코레이터의 실행 순서는 아래에서 위로 실행된다."
   ]
  },
  {
   "cell_type": "code",
   "execution_count": 1,
   "metadata": {},
   "outputs": [],
   "source": [
    "def strong(func):\n",
    "    def wrapper():\n",
    "        return '<strong>' + func() + '</strong>'\n",
    "    return wrapper\n",
    "\n",
    "def emphasis(func):\n",
    "    def wrapper():\n",
    "        return '<em>' + func() + '</em>'\n",
    "    return wrapper"
   ]
  },
  {
   "cell_type": "code",
   "execution_count": 2,
   "metadata": {},
   "outputs": [],
   "source": [
    "@strong\n",
    "@emphasis\n",
    "def greet():\n",
    "    return 'Hello!'"
   ]
  },
  {
   "cell_type": "code",
   "execution_count": 3,
   "metadata": {},
   "outputs": [
    {
     "data": {
      "text/plain": [
       "'<strong><em>Hello!</em></strong>'"
      ]
     },
     "execution_count": 3,
     "metadata": {},
     "output_type": "execute_result"
    }
   ],
   "source": [
    "greet()"
   ]
  },
  {
   "cell_type": "code",
   "execution_count": 7,
   "metadata": {},
   "outputs": [
    {
     "data": {
      "text/plain": [
       "'<strong><em>Hello!</em></strong>'"
      ]
     },
     "execution_count": 7,
     "metadata": {},
     "output_type": "execute_result"
    }
   ],
   "source": [
    "# @ 안쓰고 같은 효과내기\n",
    "def greet():\n",
    "    return 'Hello!'\n",
    "\n",
    "decorated_greet = strong(emphasis(greet))\n",
    "decorated_greet()"
   ]
  },
  {
   "cell_type": "markdown",
   "metadata": {},
   "source": [
    " "
   ]
  },
  {
   "cell_type": "markdown",
   "metadata": {},
   "source": [
    "### 3.3.4 인자를 받는 데코레이터\n",
    "\n",
    "- 위에서 살펴본 예제는 인자가 없는 함수에 대한 데코레이터 였다.\n",
    "\n",
    "- 인자가 있는 함수에 대한 데코레이터를 만든다면 다음과 같은 문제가 있다.\n",
    "    - 각각 함수들은 인자가 1개, 2개, ... 등 여러개를 가질 수 있다.\n",
    "    \n",
    "    \n",
    "\n",
    "- 이처럼, 변수의 개수가 가변적일 때 `*args` 와 `**kwargs`를 이용할 수 있다. "
   ]
  },
  {
   "cell_type": "code",
   "execution_count": 8,
   "metadata": {},
   "outputs": [],
   "source": [
    "def proxy(func):\n",
    "    def wrapper(*args, **kwargs):\n",
    "        return func(*args, **kwargs)\n",
    "    return wrapper"
   ]
  },
  {
   "cell_type": "code",
   "execution_count": 9,
   "metadata": {},
   "outputs": [],
   "source": [
    "def trace(func):\n",
    "    def wrapper(*args, **kwargs):\n",
    "        print(f'TRACE: calling {func.__name__}() '\n",
    "              f'with {args}, {kwargs}')\n",
    "        \n",
    "        original_result = func(*args, **kwargs)\n",
    "        \n",
    "        print(f'TRACE: {func.__name__}() '\n",
    "              f'returned {original_result!r}')\n",
    "        \n",
    "        return original_result\n",
    "    return wrapper"
   ]
  },
  {
   "cell_type": "code",
   "execution_count": 11,
   "metadata": {},
   "outputs": [],
   "source": [
    "@trace\n",
    "def say(name, line, city='Seoul'):\n",
    "    return f'{name}: {line}, {city}'"
   ]
  },
  {
   "cell_type": "code",
   "execution_count": 13,
   "metadata": {},
   "outputs": [
    {
     "name": "stdout",
     "output_type": "stream",
     "text": [
      "TRACE: calling say() with ('Jane', 'Hello, World'), {'city': 'Seoul'}\n",
      "TRACE: say() returned 'Jane: Hello, World, Seoul'\n"
     ]
    },
    {
     "data": {
      "text/plain": [
       "'Jane: Hello, World, Seoul'"
      ]
     },
     "execution_count": 13,
     "metadata": {},
     "output_type": "execute_result"
    }
   ],
   "source": [
    "say('Jane', 'Hello, World', city='Seoul')"
   ]
  },
  {
   "cell_type": "markdown",
   "metadata": {},
   "source": [
    " "
   ]
  },
  {
   "cell_type": "markdown",
   "metadata": {},
   "source": [
    "### 3.3.5 '디버깅 가능한' 데코레이터 작성하기\n",
    "\n",
    "- 데코레이터를 사용하면 기존의 함수에서 다른 함수(데코레이터를 사용한 함수)로 바뀌게 된다.\n",
    "\n",
    "- 이렇게 되면, 기존 함수의 메타데이터(metadata, 예를들어 docstring)가 사라지게 된다."
   ]
  },
  {
   "cell_type": "code",
   "execution_count": 14,
   "metadata": {},
   "outputs": [],
   "source": [
    "def uppercase(func):\n",
    "    def wrapper():\n",
    "        original_result = func()\n",
    "        modified_result = original_result.upper()\n",
    "        return modified_result\n",
    "    return wrapper"
   ]
  },
  {
   "cell_type": "code",
   "execution_count": 25,
   "metadata": {},
   "outputs": [],
   "source": [
    "@uppercase\n",
    "def greet():\n",
    "    '''Return a friendly greeting.'''\n",
    "    return 'Hello'"
   ]
  },
  {
   "cell_type": "code",
   "execution_count": 28,
   "metadata": {},
   "outputs": [
    {
     "data": {
      "text/plain": [
       "'wrapper'"
      ]
     },
     "execution_count": 28,
     "metadata": {},
     "output_type": "execute_result"
    }
   ],
   "source": [
    "greet.__name__"
   ]
  },
  {
   "cell_type": "code",
   "execution_count": 30,
   "metadata": {},
   "outputs": [
    {
     "data": {
      "text/plain": [
       "True"
      ]
     },
     "execution_count": 30,
     "metadata": {},
     "output_type": "execute_result"
    }
   ],
   "source": [
    "greet.__doc__ is None"
   ]
  },
  {
   "cell_type": "markdown",
   "metadata": {},
   "source": [
    " "
   ]
  },
  {
   "cell_type": "markdown",
   "metadata": {},
   "source": [
    "- 이를 해결할 수 있는 방법으로는, 파이썬의 내장 모듈인 `functools.wraps` 데코레이터를 사용하면 된다.\n",
    "\n",
    "- `functools.wraps`를 사용하면 데코레이터의 클로저로 기존 함수의 메타데이터를 복사할 수 있다.\n",
    "\n",
    "- 되도록이면 모든 데코레이터에 `functools.wraps`를 사용하는 것이 좋다."
   ]
  },
  {
   "cell_type": "code",
   "execution_count": 32,
   "metadata": {},
   "outputs": [],
   "source": [
    "import functools\n",
    "\n",
    "def uppercase(func):\n",
    "    @functools.wraps(func)\n",
    "    def wrapper():\n",
    "        return func().upper()\n",
    "    return wrapper"
   ]
  },
  {
   "cell_type": "code",
   "execution_count": 33,
   "metadata": {},
   "outputs": [],
   "source": [
    "@uppercase\n",
    "def greet():\n",
    "    '''Return a friendly greeting.'''\n",
    "    return 'Hello'"
   ]
  },
  {
   "cell_type": "code",
   "execution_count": 34,
   "metadata": {},
   "outputs": [
    {
     "data": {
      "text/plain": [
       "'greet'"
      ]
     },
     "execution_count": 34,
     "metadata": {},
     "output_type": "execute_result"
    }
   ],
   "source": [
    "greet.__name__"
   ]
  },
  {
   "cell_type": "code",
   "execution_count": 35,
   "metadata": {},
   "outputs": [
    {
     "data": {
      "text/plain": [
       "'Return a friendly greeting.'"
      ]
     },
     "execution_count": 35,
     "metadata": {},
     "output_type": "execute_result"
    }
   ],
   "source": [
    "greet.__doc__"
   ]
  },
  {
   "cell_type": "markdown",
   "metadata": {},
   "source": [
    " "
   ]
  },
  {
   "cell_type": "markdown",
   "metadata": {},
   "source": [
    "### 3.3.6 정리\n",
    "\n",
    "- 데코레이터를 사용하면 기존의 함수를 수정하지 않고도 변경할 수 있다.\n",
    "\n",
    "- `@` 구문은 데코레이터(함수)를 자동으로 호출하기 위한 단축형일 뿐이다. \n",
    "\n",
    "- `functools.wraps` 를 사용하면 데코레이터의 클로저로 기존 함수의 메타데이터가 복사된다."
   ]
  },
  {
   "cell_type": "code",
   "execution_count": null,
   "metadata": {},
   "outputs": [],
   "source": []
  }
 ],
 "metadata": {
  "kernelspec": {
   "display_name": "Python 3",
   "language": "python",
   "name": "python3"
  },
  "language_info": {
   "codemirror_mode": {
    "name": "ipython",
    "version": 3
   },
   "file_extension": ".py",
   "mimetype": "text/x-python",
   "name": "python",
   "nbconvert_exporter": "python",
   "pygments_lexer": "ipython3",
   "version": "3.7.1"
  }
 },
 "nbformat": 4,
 "nbformat_minor": 2
}
