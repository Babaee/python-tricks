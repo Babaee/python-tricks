{
 "cells": [
  {
   "cell_type": "markdown",
   "metadata": {},
   "source": [
    "# Chap02 - Patterns for Cleaner Python"
   ]
  },
  {
   "cell_type": "markdown",
   "metadata": {},
   "source": [
    " "
   ]
  },
  {
   "cell_type": "markdown",
   "metadata": {},
   "source": [
    "## 2.1 `assert` 문으로 방어하기\n",
    "\n",
    "\n",
    "- 파이썬에 내장되어 있는 `assert`문은 단언문으로, 프로그램의 안정성을 높이고 프로그램을 쉽게 디버그할 수 있도록 해준다.\n",
    "\n",
    "- 파이썬의 단언문(`assert`)은 어떤 조건을 테스트하는 **디버깅 보조 도구**라는 것이 핵심이다.\n",
    "\n",
    "    - 단언 조건이 참(`True`)이면 아무런 일도 일어나지 않고 프로그램이 정상적으로 계속 실행된다.\n",
    "\n",
    "    - 하지만, 조건이 거짓(`False`)일 경우 `AssertionError` 예외가 발생한다."
   ]
  },
  {
   "cell_type": "markdown",
   "metadata": {},
   "source": [
    " "
   ]
  },
  {
   "cell_type": "markdown",
   "metadata": {},
   "source": [
    "### `assert` 예제\n",
    "\n",
    "- 온라인 쇼핑몰 개발 중 할인 쿠폰 기능인 `apply_discount` 함수에서의 `assert` 예시\n",
    "\n",
    "    - 할인된 가격(`price`)은 0 달러 보다 낮을 수 없고, 제품의 원래 가격(`product['price']`)보다 높을 수 없다.\n",
    "    \n",
    "    - 이것을 `assert`문으로 디버깅할 수 있다."
   ]
  },
  {
   "cell_type": "code",
   "execution_count": 1,
   "metadata": {
    "ExecuteTime": {
     "end_time": "2019-02-09T12:24:49.647729Z",
     "start_time": "2019-02-09T12:24:49.642526Z"
    }
   },
   "outputs": [],
   "source": [
    "def apply_discount(product, discount):\n",
    "    price = int(product['price'] * (1.0 - discount))\n",
    "    assert 0 <= price <= product['price']  # assert문\n",
    "    return price"
   ]
  },
  {
   "cell_type": "code",
   "execution_count": 2,
   "metadata": {
    "ExecuteTime": {
     "end_time": "2019-02-09T12:24:50.643160Z",
     "start_time": "2019-02-09T12:24:50.628058Z"
    }
   },
   "outputs": [
    {
     "data": {
      "text/plain": [
       "11175"
      ]
     },
     "execution_count": 2,
     "metadata": {},
     "output_type": "execute_result"
    }
   ],
   "source": [
    "# 예제를 위한 product(shoes) 정의\n",
    "shoes = {'name': 'Fancy Shoes', 'price': 14900}\n",
    "\n",
    "# apply_discount 함수 적용\n",
    "# 조건이 True이므로 정상적으로 작동한다.\n",
    "apply_discount(shoes, discount=0.25)"
   ]
  },
  {
   "cell_type": "markdown",
   "metadata": {},
   "source": [
    "- 다음과 같이 잘못된 할인(`discount`)를 적용하게 되면 단언문(`assert`)에 의해 `AssertionError`가 발생하게 된다.\n",
    "\n",
    "- `assert`문을 통해 아래의 Traceback 출력에서 어떠한 문제로 인해 예외가 발생했는지 쉽게 파악할 수 있다."
   ]
  },
  {
   "cell_type": "code",
   "execution_count": 3,
   "metadata": {
    "ExecuteTime": {
     "end_time": "2019-02-09T12:24:51.812464Z",
     "start_time": "2019-02-09T12:24:51.715529Z"
    }
   },
   "outputs": [
    {
     "ename": "AssertionError",
     "evalue": "",
     "output_type": "error",
     "traceback": [
      "\u001b[0;31m---------------------------------------------------------------------------\u001b[0m",
      "\u001b[0;31mAssertionError\u001b[0m                            Traceback (most recent call last)",
      "\u001b[0;32m<ipython-input-3-a0c7f39b7414>\u001b[0m in \u001b[0;36m<module>\u001b[0;34m()\u001b[0m\n\u001b[1;32m      1\u001b[0m \u001b[0;31m# 잘못된 할인율(discount) 적용\u001b[0m\u001b[0;34m\u001b[0m\u001b[0;34m\u001b[0m\u001b[0m\n\u001b[0;32m----> 2\u001b[0;31m \u001b[0mapply_discount\u001b[0m\u001b[0;34m(\u001b[0m\u001b[0mshoes\u001b[0m\u001b[0;34m,\u001b[0m \u001b[0mdiscount\u001b[0m\u001b[0;34m=\u001b[0m\u001b[0;36m2.0\u001b[0m\u001b[0;34m)\u001b[0m\u001b[0;34m\u001b[0m\u001b[0m\n\u001b[0m",
      "\u001b[0;32m<ipython-input-1-19003c8d3a5b>\u001b[0m in \u001b[0;36mapply_discount\u001b[0;34m(product, discount)\u001b[0m\n\u001b[1;32m      1\u001b[0m \u001b[0;32mdef\u001b[0m \u001b[0mapply_discount\u001b[0m\u001b[0;34m(\u001b[0m\u001b[0mproduct\u001b[0m\u001b[0;34m,\u001b[0m \u001b[0mdiscount\u001b[0m\u001b[0;34m)\u001b[0m\u001b[0;34m:\u001b[0m\u001b[0;34m\u001b[0m\u001b[0m\n\u001b[1;32m      2\u001b[0m     \u001b[0mprice\u001b[0m \u001b[0;34m=\u001b[0m \u001b[0mint\u001b[0m\u001b[0;34m(\u001b[0m\u001b[0mproduct\u001b[0m\u001b[0;34m[\u001b[0m\u001b[0;34m'price'\u001b[0m\u001b[0;34m]\u001b[0m \u001b[0;34m*\u001b[0m \u001b[0;34m(\u001b[0m\u001b[0;36m1.0\u001b[0m \u001b[0;34m-\u001b[0m \u001b[0mdiscount\u001b[0m\u001b[0;34m)\u001b[0m\u001b[0;34m)\u001b[0m\u001b[0;34m\u001b[0m\u001b[0m\n\u001b[0;32m----> 3\u001b[0;31m     \u001b[0;32massert\u001b[0m \u001b[0;36m0\u001b[0m \u001b[0;34m<=\u001b[0m \u001b[0mprice\u001b[0m \u001b[0;34m<=\u001b[0m \u001b[0mproduct\u001b[0m\u001b[0;34m[\u001b[0m\u001b[0;34m'price'\u001b[0m\u001b[0;34m]\u001b[0m  \u001b[0;31m# assert문\u001b[0m\u001b[0;34m\u001b[0m\u001b[0m\n\u001b[0m\u001b[1;32m      4\u001b[0m     \u001b[0;32mreturn\u001b[0m \u001b[0mprice\u001b[0m\u001b[0;34m\u001b[0m\u001b[0m\n",
      "\u001b[0;31mAssertionError\u001b[0m: "
     ]
    }
   ],
   "source": [
    "# 잘못된 할인율(discount) 적용\n",
    "apply_discount(shoes, discount=2.0)"
   ]
  },
  {
   "cell_type": "markdown",
   "metadata": {},
   "source": [
    " "
   ]
  },
  {
   "cell_type": "markdown",
   "metadata": {},
   "source": [
    "### 일반적인 예외처리와 다른점\n",
    "\n",
    "- 단언문은 `if`문이나 예외처리 구문처럼 에러 조건(ex. `File-Not-Found`)을 알리기 위한 것이 아니다.\n",
    "\n",
    "- 파이썬의 단언문(`assert`)은 런타임 에러를 처리하기 위한 것이 아니라 **디버깅을 돕는 것**이다."
   ]
  },
  {
   "cell_type": "markdown",
   "metadata": {},
   "source": [
    " "
   ]
  },
  {
   "cell_type": "markdown",
   "metadata": {},
   "source": [
    "### 파이썬 단언문 문법\n",
    "\n",
    "- 파이썬 공식 문서 참고 → [링크](https://docs.python.org/3/reference/simple_stmts.html?#the-assert-statement)\n",
    "\n",
    "\n",
    "```\n",
    "assert_stmt ::= \"assert\" expression1 [\",\" expression2]\n",
    "```\n",
    "\n",
    "- `expression1`은 테스트할 조건, `expression2`는 단언문이 실패할 경우 표시되는 에러 메시지이다.\n",
    "\n",
    "- `assert`문을 실행할 때, 파이썬 인터프리터(interpreter)는 다음과 같은 문장과 같은 형식이다.\n",
    "\n",
    "```python\n",
    "if __debug__:\n",
    "    if not expression1:  # expression1은 조건\n",
    "        raise AssertionError(expression2)  # expression2는 에러 메시지\n",
    "```\n",
    "\n",
    "- 위의 코드에서 `assert` 조건을 검사하기 전에 [`__debug__`](https://docs.python.org/3/library/constants.html?#__debug__)(일반적으로 `True`임) 전역변수에 대한 추가 검사가 있다.\n",
    "\n",
    "- `expression2`를 사용해 트래이스백(Traceback) 메시지의 `AssertionError`와 함께 추가적인 에러메시지를 전달할 수 있다."
   ]
  },
  {
   "cell_type": "markdown",
   "metadata": {},
   "source": [
    " "
   ]
  },
  {
   "cell_type": "markdown",
   "metadata": {},
   "source": [
    "### 파이썬 단언문 사용 시 주의 사항"
   ]
  },
  {
   "cell_type": "markdown",
   "metadata": {},
   "source": [
    "#### 1) 데이터 유효성 검증에 `assert`를 사용하지 말자\n",
    "\n",
    "- [`-0` 및 `-00`](https://docs.python.org/3/using/cmdline.html#cmdoption-o) 커맨드라인 스위치와 CPython의 [`PYTHONOPTIMZE`](https://docs.python.org/3/using/cmdline.html#envvar-PYTHONOPTIMIZE) 환경 변수를 사용하여 전역변수인 `__debug__`를 비활성화할 수 있다. \n",
    "\n",
    "- 그렇게 되면, `assert`문을 컴파일만 되고 실행되지 않는 문제가 발생한다."
   ]
  },
  {
   "cell_type": "markdown",
   "metadata": {},
   "source": [
    "#### 2) 절대 실패하지 않는 `assert`\n",
    "\n",
    "- 예를 들어, `assert`문의 첫 번째 인자(`expression1`)에 튜플(tuple)을 전달하면 아래의 결과처럼 `assert`문은 항상 `True`가 되는 문제가 발생한다.\n",
    "\n",
    "- 그 이유는 아래의 `assert`문이 항상 `True`인 튜플 객체를 검사하기 때문이다. \n",
    "\n",
    "- Python3에서는 이러한 실수를 방지하기 위해 `assert`문에 대한 `SyntaxWarning`이 표시된다."
   ]
  },
  {
   "cell_type": "code",
   "execution_count": 4,
   "metadata": {
    "ExecuteTime": {
     "end_time": "2019-02-09T12:25:03.519495Z",
     "start_time": "2019-02-09T12:25:03.513288Z"
    }
   },
   "outputs": [
    {
     "name": "stderr",
     "output_type": "stream",
     "text": [
      "<ipython-input-4-473cf44d4fd2>:1: SyntaxWarning: assertion is always true, perhaps remove parentheses?\n",
      "  assert (1 == 2, 'This should fail')\n"
     ]
    }
   ],
   "source": [
    "assert (1 == 2, 'This should fail')"
   ]
  },
  {
   "cell_type": "markdown",
   "metadata": {},
   "source": [
    " "
   ]
  },
  {
   "cell_type": "markdown",
   "metadata": {},
   "source": [
    "### 정리\n",
    "\n",
    "- 파이썬의 단언문(`assert`)은 프로그램 내부 자체 검사로 조건을 테스트하는 디버깅 도구이다.\n",
    "\n",
    "- 단언문은 런타임 에러를 처리하는 용도가 아니다.\n",
    "\n",
    "- 인터프리터 설정으로 단언문을 전역적으로 비활성화(`__debug__ = False`)할 수 있으므로 주의해서 적절하게 사용해야 한다."
   ]
  },
  {
   "cell_type": "markdown",
   "metadata": {},
   "source": [
    " "
   ]
  },
  {
   "cell_type": "markdown",
   "metadata": {},
   "source": [
    "## 2.2 보기 좋은 쉼표 배치\n",
    "\n",
    "\n",
    "- **모든 행을 쉼표(`,`)로 끝내자!**\n",
    "\n",
    "- 파이썬의 리스트(list), 딕셔너리(dictionary), 세트(set) 상수에서 항목을 추가, 제거할 때 유용하다.\n",
    "\n",
    "- `git diff`에서 어떤 항목이 추가, 제거, 수정되었는지 빠르게 확인할 수 있다."
   ]
  },
  {
   "cell_type": "code",
   "execution_count": 4,
   "metadata": {},
   "outputs": [],
   "source": [
    "# 한 행으로 작성한 리스트\n",
    "names = ['Alice', 'Bob', 'Dilbert']\n",
    "\n",
    "# 모든 행을 쉼표로 끝낸 리스트\n",
    "names = [\n",
    "    'Alice',\n",
    "    'Bob', \n",
    "    'Dilbert'\n",
    "]"
   ]
  },
  {
   "cell_type": "markdown",
   "metadata": {},
   "source": [
    " "
   ]
  },
  {
   "cell_type": "markdown",
   "metadata": {},
   "source": [
    "### 주의 사항\n",
    "\n",
    "- 문자열(`str`)로 구성된 리스트의 경우, 리스트에 항목을 추가할 때 쉼표(`,`)를 붙여 주지 않으면 [**문자열 리터럴 결합**](https://docs.python.org/3/reference/lexical_analysis.html#string-literal-concatenation)(string literal concatenation)이 발생한다.\n",
    "\n",
    "- 아래의 예제처럼, `names` 리스트에서 `Dilbert` 뒤에 쉼표(`,`)를 붙이지 않고, `Jane`을 추가하게 되면 `DilbertJane`으로 문자열이 병합된다."
   ]
  },
  {
   "cell_type": "code",
   "execution_count": 6,
   "metadata": {},
   "outputs": [
    {
     "data": {
      "text/plain": [
       "['Alice', 'Bob', 'DilbertJane']"
      ]
     },
     "execution_count": 6,
     "metadata": {},
     "output_type": "execute_result"
    }
   ],
   "source": [
    "# String Literal Concatenation\n",
    "names = [\n",
    "    'Alice',\n",
    "    'Bob', \n",
    "    'Dilbert'\n",
    "    'Jane'\n",
    "]\n",
    "\n",
    "names"
   ]
  },
  {
   "cell_type": "markdown",
   "metadata": {},
   "source": [
    "- 위와 같은 문제를 해결하기 위해, 파이썬에서는 리스트, 딕셔너리, 세트(set) 상수의 모든 항목 **마지막**에 쉼표(`,`)를 붙일 수 있다.\n",
    "\n",
    "- 다만, 이러한 해결책은 스스로 코드 스타일을 체화하도록 훈련해야 한다."
   ]
  },
  {
   "cell_type": "code",
   "execution_count": 7,
   "metadata": {},
   "outputs": [],
   "source": [
    "# 리스트 항목 마지막에 쉼표(,) 붙이기\n",
    "names = [\n",
    "    'Alice',\n",
    "    'Bob',\n",
    "    'Dilbert',  # <- 쉼표 추가!\n",
    "]"
   ]
  },
  {
   "cell_type": "markdown",
   "metadata": {},
   "source": [
    " "
   ]
  },
  {
   "cell_type": "markdown",
   "metadata": {},
   "source": [
    "## 2.3 콘텍스트 매니저와 `with` 문\n",
    "\n",
    "\n",
    "- `with`문은 기능을 추상화하고 재사용할 수 있게 하여 리소스 관리 패턴을 단순하게 해준다.\n",
    "\n",
    "- 예를 들어, 파이썬의 내장 함수인 `open()`을 `with`문과 함께 사용하면 간편하게 파일을 열 수 있다.\n",
    "\n",
    "    - `with` 콘텍스트(context)를 벗어나면 파일(`f`)는 자동으로 닫힌다(`close()`)."
   ]
  },
  {
   "cell_type": "code",
   "execution_count": 1,
   "metadata": {},
   "outputs": [],
   "source": [
    "# with를 이용해 파일 열기\n",
    "with open('./samples/hello.txt', 'w') as f:\n",
    "    f.write('hello, world!')"
   ]
  },
  {
   "cell_type": "markdown",
   "metadata": {},
   "source": [
    "- 위의 코드는 내부적으로 다음과 같이 변환되어 실행된다."
   ]
  },
  {
   "cell_type": "code",
   "execution_count": 2,
   "metadata": {},
   "outputs": [],
   "source": [
    "f = open('./samples/hello.txt', 'w')\n",
    "try:\n",
    "    f.write('hello, world!')\n",
    "finally:\n",
    "    f.close()"
   ]
  },
  {
   "cell_type": "markdown",
   "metadata": {},
   "source": [
    "- 위의 코드에서 처럼 `try...finally` 문을 사용하지 않고 아래와 같이 작성할 경우, `f.write()` 호출 중에 예외가 발생하게 되면 파일이 닫히는 것을 보장할 수가 없다."
   ]
  },
  {
   "cell_type": "code",
   "execution_count": 3,
   "metadata": {},
   "outputs": [],
   "source": [
    "f = open('./samples/hello.txt', 'w')\n",
    "f.write('hello, world!')\n",
    "f.close()"
   ]
  },
  {
   "cell_type": "markdown",
   "metadata": {},
   "source": [
    "- 따라서, `with`문을 사용하는 것이 리소스를 적절하게 확보하고 반환하기 때문에 매우 유용하다.\n",
    "\n",
    "- `with`문을 사용하면 시스템 리소스를 다루는 코드를 더 읽기 좋게 만들 수 있다."
   ]
  },
  {
   "cell_type": "markdown",
   "metadata": {},
   "source": [
    " "
   ]
  },
  {
   "cell_type": "markdown",
   "metadata": {},
   "source": [
    "### 객체에서 with 사용"
   ]
  },
  {
   "cell_type": "markdown",
   "metadata": {},
   "source": [
    "#### 1) 클래스 기반\n",
    "\n",
    "- 콘텍스트 매니저([Context Managers](https://docs.python.org/3/reference/datamodel.html#with-statement-context-managers))를 구현하면, 자신이 만든 클래스와 함수에도 동일한 기능을 사용할 수 있다.\n",
    "\n",
    "- 콘텍스트 매니저는 `with`문을 지원하기 위해 객체가 따라야 하는 '프로토콜(인터페이스)'다.\n",
    "    - `__enter__` : Enter the runtime context related to this object.\n",
    "    - `__exit__` : Exit the runtime context related to this object.\n",
    "    \n",
    "    \n",
    "- 아래의 예제는 `open()` 콘텍스트 매니저를 `ManagedFile`란 클래스로 구현한 예제이다."
   ]
  },
  {
   "cell_type": "code",
   "execution_count": 6,
   "metadata": {},
   "outputs": [],
   "source": [
    "class ManagedFile:\n",
    "    def __init__(self, name):\n",
    "        self.name = name\n",
    "    \n",
    "    def __enter__(self):\n",
    "        self.file = open(self.name, 'w')\n",
    "        return self.file\n",
    "    \n",
    "    def __exit__(self, exc_type, exc_val, exc_tb):\n",
    "        if self.file:\n",
    "            self.file.close()"
   ]
  },
  {
   "cell_type": "code",
   "execution_count": 7,
   "metadata": {},
   "outputs": [],
   "source": [
    "with ManagedFile('./samples/hello2.txt') as f:\n",
    "    f.write('hello, world!')\n",
    "    f.write('bye now')"
   ]
  },
  {
   "cell_type": "markdown",
   "metadata": {},
   "source": [
    "- 위의 코드에서 `with`문의 콘텍스트로 들어갈 때 `__enter__`를 호출하고 리소스를 확보한다.\n",
    "\n",
    "- 그런다음, 콘텍스트를 벗어날 때 `__exit__`를 호출하여 리소스를 반환한다."
   ]
  },
  {
   "cell_type": "markdown",
   "metadata": {},
   "source": [
    " "
   ]
  },
  {
   "cell_type": "markdown",
   "metadata": {},
   "source": [
    "#### 2) 제너레이터 기반\n",
    "\n",
    "- 파이썬의 [`contextlib`](https://docs.python.org/3/library/contextlib.html) 모듈을 이용해서도 구현할 수 있다.\n",
    "\n",
    "- `with`문을 `contextlib`과 사용하면 간편하게 사용할 수 있다.\n",
    "\n",
    "- 예를 들어, `contextlib.contextmanager` 데코레이터(decorator)를 사용하면 제너레이터(generator) 함수를 정의할 수 있다."
   ]
  },
  {
   "cell_type": "code",
   "execution_count": 9,
   "metadata": {},
   "outputs": [],
   "source": [
    "from contextlib import contextmanager\n",
    "\n",
    "@contextmanager\n",
    "def managed_file(name):\n",
    "    try:\n",
    "        f = open(name, 'w')\n",
    "        yield f\n",
    "    finally:\n",
    "        f.close()"
   ]
  },
  {
   "cell_type": "code",
   "execution_count": 10,
   "metadata": {},
   "outputs": [],
   "source": [
    "with managed_file('./samples/hello3.txt') as f:\n",
    "    f.write('hello, world!')\n",
    "    f.write('bye now')"
   ]
  },
  {
   "cell_type": "markdown",
   "metadata": {},
   "source": [
    "- 위의 코드에서 `managed_file()`이 제너레이터로써 먼저 리소스를 확보한 다음, `yield`로 확보해 둔 자원을 호출자에게 전달한다.\n",
    "\n",
    "- 콘텍스트가 종료되면 제너레이터가 나머지 단계를 수행하여 리소스를 반환한다."
   ]
  },
  {
   "cell_type": "markdown",
   "metadata": {},
   "source": [
    " "
   ]
  },
  {
   "cell_type": "markdown",
   "metadata": {},
   "source": [
    "### 정리\n",
    "\n",
    "- `with`문은 `try/finally`문 사용을 콘텍스트 매니저에 캡슐화하여 예외 처리를 단순하게 한다.\n",
    "\n",
    "- `with`문에 의해 리소서가 확보되고, 콘텍스트를 벗어날 때 자동으로 해제된다."
   ]
  },
  {
   "cell_type": "code",
   "execution_count": null,
   "metadata": {},
   "outputs": [],
   "source": []
  }
 ],
 "metadata": {
  "kernelspec": {
   "display_name": "Python 3",
   "language": "python",
   "name": "python3"
  },
  "language_info": {
   "codemirror_mode": {
    "name": "ipython",
    "version": 3
   },
   "file_extension": ".py",
   "mimetype": "text/x-python",
   "name": "python",
   "nbconvert_exporter": "python",
   "pygments_lexer": "ipython3",
   "version": "3.6.3"
  },
  "latex_envs": {
   "LaTeX_envs_menu_present": true,
   "autoclose": false,
   "autocomplete": true,
   "bibliofile": "biblio.bib",
   "cite_by": "apalike",
   "current_citInitial": 1,
   "eqLabelWithNumbers": true,
   "eqNumInitial": 1,
   "hotkeys": {
    "equation": "Ctrl-E",
    "itemize": "Ctrl-I"
   },
   "labels_anchors": false,
   "latex_user_defs": false,
   "report_style_numbering": false,
   "user_envs_cfg": false
  },
  "toc": {
   "base_numbering": 1,
   "nav_menu": {},
   "number_sections": false,
   "sideBar": true,
   "skip_h1_title": false,
   "title_cell": "Table of Contents",
   "title_sidebar": "Contents",
   "toc_cell": true,
   "toc_position": {},
   "toc_section_display": true,
   "toc_window_display": true
  },
  "toc-autonumbering": false,
  "toc-showcode": false,
  "toc-showmarkdowntxt": false,
  "toc-showtags": false,
  "varInspector": {
   "cols": {
    "lenName": 16,
    "lenType": 16,
    "lenVar": 40
   },
   "kernels_config": {
    "python": {
     "delete_cmd_postfix": "",
     "delete_cmd_prefix": "del ",
     "library": "var_list.py",
     "varRefreshCmd": "print(var_dic_list())"
    },
    "r": {
     "delete_cmd_postfix": ") ",
     "delete_cmd_prefix": "rm(",
     "library": "var_list.r",
     "varRefreshCmd": "cat(var_dic_list()) "
    }
   },
   "types_to_exclude": [
    "module",
    "function",
    "builtin_function_or_method",
    "instance",
    "_Feature"
   ],
   "window_display": false
  }
 },
 "nbformat": 4,
 "nbformat_minor": 2
}
