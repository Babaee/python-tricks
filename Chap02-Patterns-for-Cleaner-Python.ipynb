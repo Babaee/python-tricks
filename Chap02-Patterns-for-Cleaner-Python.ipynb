{
 "cells": [
  {
   "cell_type": "markdown",
   "metadata": {},
   "source": [
    "# Chap02 - Patterns for Cleaner Python"
   ]
  },
  {
   "cell_type": "markdown",
   "metadata": {},
   "source": [
    " "
   ]
  },
  {
   "cell_type": "markdown",
   "metadata": {},
   "source": [
    "## 2.1 `assert` 문으로 방어하기\n",
    "\n",
    "\n",
    "- 파이썬에 내장되어 있는 `assert`문은 단언문으로, 프로그램의 안정성을 높이고 프로그램을 쉽게 디버그할 수 있도록 해준다.\n",
    "\n",
    "- 파이썬의 단언문(`assert`)은 어떤 조건을 테스트하는 **디버깅 보조 도구**라는 것이 핵심이다.\n",
    "\n",
    "    - 단언 조건이 참(`True`)이면 아무런 일도 일어나지 않고 프로그램이 정상적으로 계속 실행된다.\n",
    "\n",
    "    - 하지만, 조건이 거짓(`False`)일 경우 `AssertionError` 예외가 발생한다."
   ]
  },
  {
   "cell_type": "markdown",
   "metadata": {},
   "source": [
    " "
   ]
  },
  {
   "cell_type": "markdown",
   "metadata": {},
   "source": [
    "### `assert` 예제\n",
    "\n",
    "- 온라인 쇼핑몰 개발 중 할인 쿠폰 기능인 `apply_discount` 함수에서의 `assert` 예시\n",
    "\n",
    "    - 할인된 가격(`price`)은 0 달러 보다 낮을 수 없고, 제품의 원래 가격(`product['price']`)보다 높을 수 없다.\n",
    "    \n",
    "    - 이것을 `assert`문으로 디버깅할 수 있다."
   ]
  },
  {
   "cell_type": "code",
   "execution_count": 1,
   "metadata": {},
   "outputs": [],
   "source": [
    "def apply_discount(product, discount):\n",
    "    price = int(product['price'] * (1.0 - discount))\n",
    "    assert 0 <= price <= product['price']  # assert문\n",
    "    return price"
   ]
  },
  {
   "cell_type": "code",
   "execution_count": 2,
   "metadata": {},
   "outputs": [
    {
     "data": {
      "text/plain": [
       "11175"
      ]
     },
     "execution_count": 2,
     "metadata": {},
     "output_type": "execute_result"
    }
   ],
   "source": [
    "# 예제를 위한 product(shoes) 정의\n",
    "shoes = {'name': 'Fancy Shoes', 'price': 14900}\n",
    "\n",
    "# apply_discount 함수 적용\n",
    "# 조건이 True이므로 정상적으로 작동한다.\n",
    "apply_discount(shoes, discount=0.25)"
   ]
  },
  {
   "cell_type": "markdown",
   "metadata": {},
   "source": [
    "- 다음과 같이 잘못된 할인(`discount`)를 적용하게 되면 단언문(`assert`)에 의해 `AssertionError`가 발생하게 된다.\n",
    "\n",
    "- `assert`문을 통해 아래의 Traceback 출력에서 어떠한 문제로 인해 예외가 발생했는지 쉽게 파악할 수 있다."
   ]
  },
  {
   "cell_type": "code",
   "execution_count": 5,
   "metadata": {},
   "outputs": [
    {
     "ename": "AssertionError",
     "evalue": "",
     "output_type": "error",
     "traceback": [
      "\u001b[1;31m---------------------------------------------------------------------------\u001b[0m",
      "\u001b[1;31mAssertionError\u001b[0m                            Traceback (most recent call last)",
      "\u001b[1;32m<ipython-input-5-a0c7f39b7414>\u001b[0m in \u001b[0;36m<module>\u001b[1;34m()\u001b[0m\n\u001b[0;32m      1\u001b[0m \u001b[1;31m# 잘못된 할인율(discount) 적용\u001b[0m\u001b[1;33m\u001b[0m\u001b[1;33m\u001b[0m\u001b[0m\n\u001b[1;32m----> 2\u001b[1;33m \u001b[0mapply_discount\u001b[0m\u001b[1;33m(\u001b[0m\u001b[0mshoes\u001b[0m\u001b[1;33m,\u001b[0m \u001b[0mdiscount\u001b[0m\u001b[1;33m=\u001b[0m\u001b[1;36m2.0\u001b[0m\u001b[1;33m)\u001b[0m\u001b[1;33m\u001b[0m\u001b[0m\n\u001b[0m",
      "\u001b[1;32m<ipython-input-1-19003c8d3a5b>\u001b[0m in \u001b[0;36mapply_discount\u001b[1;34m(product, discount)\u001b[0m\n\u001b[0;32m      1\u001b[0m \u001b[1;32mdef\u001b[0m \u001b[0mapply_discount\u001b[0m\u001b[1;33m(\u001b[0m\u001b[0mproduct\u001b[0m\u001b[1;33m,\u001b[0m \u001b[0mdiscount\u001b[0m\u001b[1;33m)\u001b[0m\u001b[1;33m:\u001b[0m\u001b[1;33m\u001b[0m\u001b[0m\n\u001b[0;32m      2\u001b[0m     \u001b[0mprice\u001b[0m \u001b[1;33m=\u001b[0m \u001b[0mint\u001b[0m\u001b[1;33m(\u001b[0m\u001b[0mproduct\u001b[0m\u001b[1;33m[\u001b[0m\u001b[1;34m'price'\u001b[0m\u001b[1;33m]\u001b[0m \u001b[1;33m*\u001b[0m \u001b[1;33m(\u001b[0m\u001b[1;36m1.0\u001b[0m \u001b[1;33m-\u001b[0m \u001b[0mdiscount\u001b[0m\u001b[1;33m)\u001b[0m\u001b[1;33m)\u001b[0m\u001b[1;33m\u001b[0m\u001b[0m\n\u001b[1;32m----> 3\u001b[1;33m     \u001b[1;32massert\u001b[0m \u001b[1;36m0\u001b[0m \u001b[1;33m<=\u001b[0m \u001b[0mprice\u001b[0m \u001b[1;33m<=\u001b[0m \u001b[0mproduct\u001b[0m\u001b[1;33m[\u001b[0m\u001b[1;34m'price'\u001b[0m\u001b[1;33m]\u001b[0m  \u001b[1;31m# assert문\u001b[0m\u001b[1;33m\u001b[0m\u001b[0m\n\u001b[0m\u001b[0;32m      4\u001b[0m     \u001b[1;32mreturn\u001b[0m \u001b[0mprice\u001b[0m\u001b[1;33m\u001b[0m\u001b[0m\n",
      "\u001b[1;31mAssertionError\u001b[0m: "
     ]
    }
   ],
   "source": [
    "# 잘못된 할인율(discount) 적용\n",
    "apply_discount(shoes, discount=2.0)"
   ]
  },
  {
   "cell_type": "markdown",
   "metadata": {},
   "source": [
    " "
   ]
  },
  {
   "cell_type": "markdown",
   "metadata": {},
   "source": [
    "### 일반적인 예외처리와 다른점\n",
    "\n",
    "- 단언문은 `if`문이나 예외처리 구문처럼 에러 조건(ex. `File-Not-Found`)을 알리기 위한 것이 아니다.\n",
    "\n",
    "- 파이썬의 단언문(`assert`)은 런타임 에러를 처리하기 위한 것이 아니라 **디버깅을 돕는 것**이다."
   ]
  },
  {
   "cell_type": "markdown",
   "metadata": {},
   "source": [
    " "
   ]
  },
  {
   "cell_type": "markdown",
   "metadata": {},
   "source": [
    "### 파이썬 단언문 문법\n",
    "\n",
    "- 파이썬 공식 문서 참고 → [링크](https://docs.python.org/3/reference/simple_stmts.html?#the-assert-statement)\n",
    "\n",
    "\n",
    "```\n",
    "assert_stmt ::= \"assert\" expression1 [\",\" expression2]\n",
    "```\n",
    "\n",
    "- `expression1`은 테스트할 조건, `expression2`는 단언문이 실패할 경우 표시되는 에러 메시지이다.\n",
    "\n",
    "- `assert`문을 실행할 때, 파이썬 인터프리터(interpreter)는 다음과 같은 문장과 같은 형식이다.\n",
    "\n",
    "```python\n",
    "if __debug__:\n",
    "    if not expression1:  # expression1은 조건\n",
    "        raise AssertionError(expression2)  # expression2는 에러 메시지\n",
    "```\n",
    "\n",
    "- 위의 코드에서 `assert` 조건을 검사하기 전에 [`__debug__`](https://docs.python.org/3/library/constants.html?#__debug__)(일반적으로 `True`임) 전역변수에 대한 추가 검사가 있다.\n",
    "\n",
    "- `expression2`를 사용해 트래이스백(Traceback) 메시지의 `AssertionError`와 함께 추가적인 에러메시지를 전달할 수 있다."
   ]
  },
  {
   "cell_type": "markdown",
   "metadata": {},
   "source": [
    " "
   ]
  },
  {
   "cell_type": "markdown",
   "metadata": {},
   "source": [
    "### 파이썬 단언문 사용 시 주의 사항"
   ]
  },
  {
   "cell_type": "markdown",
   "metadata": {},
   "source": [
    "#### 1) 데이터 유효성 검증에 `assert`를 사용하지 말자\n",
    "\n",
    "- [`-0` 및 `-00`](https://docs.python.org/3/using/cmdline.html#cmdoption-o) 커맨드라인 스위치와 CPython의 [`PYTHONOPTIMZE`](https://docs.python.org/3/using/cmdline.html#envvar-PYTHONOPTIMIZE) 환경 변수를 사용하여 전역변수인 `__debug__`를 비활성화할 수 있다. \n",
    "\n",
    "- 그렇게 되면, `assert`문을 컴파일만 되고 실행되지 않는 문제가 발생한다."
   ]
  },
  {
   "cell_type": "markdown",
   "metadata": {},
   "source": [
    "#### 2) 절대 실패하지 않는 `assert`\n",
    "\n",
    "- 예를 들어, `assert`문의 첫 번째 인자(`expression1`)에 튜플(tuple)을 전달하면 아래의 결과처럼 `assert`문은 항상 `True`가 되는 문제가 발생한다.\n",
    "\n",
    "- 그 이유는 아래의 `assert`문이 항상 `True`인 튜플 객체를 검사하기 때문이다. \n",
    "\n",
    "- Python3에서는 이러한 실수를 방지하기 위해 `assert`문에 대한 `SyntaxWarning`이 표시된다."
   ]
  },
  {
   "cell_type": "code",
   "execution_count": 17,
   "metadata": {},
   "outputs": [
    {
     "name": "stderr",
     "output_type": "stream",
     "text": [
      "<ipython-input-17-473cf44d4fd2>:1: SyntaxWarning: assertion is always true, perhaps remove parentheses?\n",
      "  assert (1 == 2, 'This should fail')\n"
     ]
    }
   ],
   "source": [
    "assert (1 == 2, 'This should fail')"
   ]
  },
  {
   "cell_type": "markdown",
   "metadata": {},
   "source": [
    " "
   ]
  },
  {
   "cell_type": "markdown",
   "metadata": {},
   "source": [
    "### 정리\n",
    "\n",
    "- 파이썬의 단언문(`assert`)은 프로그램 내부 자체 검사로 조건을 테스트하는 디버깅 도구이다.\n",
    "\n",
    "- 단언문은 런타임 에러를 처리하는 용도가 아니다.\n",
    "\n",
    "- 인터프리터 설정으로 단언문을 전역적으로 비활성화(`__debug__ = False`)할 수 있으므로 주의해서 적절하게 사용해야 한다."
   ]
  },
  {
   "cell_type": "code",
   "execution_count": null,
   "metadata": {},
   "outputs": [],
   "source": []
  }
 ],
 "metadata": {
  "kernelspec": {
   "display_name": "Python 3",
   "language": "python",
   "name": "python3"
  },
  "language_info": {
   "codemirror_mode": {
    "name": "ipython",
    "version": 3
   },
   "file_extension": ".py",
   "mimetype": "text/x-python",
   "name": "python",
   "nbconvert_exporter": "python",
   "pygments_lexer": "ipython3",
   "version": "3.6.5"
  }
 },
 "nbformat": 4,
 "nbformat_minor": 2
}
