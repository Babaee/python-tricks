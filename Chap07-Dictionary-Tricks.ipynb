{
 "cells": [
  {
   "cell_type": "code",
   "execution_count": 2,
   "metadata": {},
   "outputs": [],
   "source": [
    "\n",
    "name_for_userid = {382: 'Alice', 950: 'Bob', 590: 'Dilbert'}\n",
    "\n"
   ]
  },
  {
   "cell_type": "code",
   "execution_count": null,
   "metadata": {},
   "outputs": [],
   "source": [
    "\n",
    "def greeting(userid):\n",
    "\n",
    "return 'Hi %s!' % name_for_userid[userid]\n",
    "\n"
   ]
  },
  {
   "cell_type": "code",
   "execution_count": null,
   "metadata": {},
   "outputs": [],
   "source": [
    "greeting(382)"
   ]
  },
  {
   "cell_type": "code",
   "execution_count": null,
   "metadata": {},
   "outputs": [],
   "source": [
    "greeting(3.333333)"
   ]
  },
  {
   "cell_type": "code",
   "execution_count": null,
   "metadata": {},
   "outputs": [],
   "source": []
  },
  {
   "cell_type": "code",
   "execution_count": 21,
   "metadata": {},
   "outputs": [],
   "source": [
    "\n",
    "def greeting(userid):\n",
    "\n",
    "    if userid in name_for_userid:\n",
    "        return 'Hi %s!' % name_for_userid[userid]\n",
    "    else:\n",
    "        return 'Hi there!'\n",
    "\n"
   ]
  },
  {
   "cell_type": "code",
   "execution_count": null,
   "metadata": {},
   "outputs": [],
   "source": [
    "greeting(382)"
   ]
  },
  {
   "cell_type": "code",
   "execution_count": null,
   "metadata": {},
   "outputs": [],
   "source": [
    "greeting(3.333333)"
   ]
  },
  {
   "cell_type": "markdown",
   "metadata": {},
   "source": [
    "That's a lot better. Unknown users now receive a general greeting when users with a valid ID are addressed personally.\n",
    "\n",
    "Even if this new implementation produces the desired results and looks short and clean enough, it can still be improved. There are the following things to complain about our previous approach:\n",
    "\n",
    "   - It is inefficient because it queries the dictionary twice.\n",
    "   - It is rambling because, for example, the greeting string is repeated.\n",
    "   - It is not Pythonic, because the official Python documentation expressly recommends applying the EAFP principle in such situations - \"easier to ask for forgiveness than permission\", for example \"it is easier to ask for forgiveness than for permission\". This common Python programming style assumes the existence of valid keys or attributes and catches exceptions when that assumption proves incorrect\n",
    "\n",
    "A better implementation, following the EAFP principle, might be to use a `try ... except` block to catch the KeyError exception rather than specifically checking for the presence of the key:\n"
   ]
  },
  {
   "cell_type": "code",
   "execution_count": 22,
   "metadata": {},
   "outputs": [],
   "source": [
    "\n",
    "def greeting(userid):\n",
    "\n",
    "    try:\n",
    "        return 'Hi %s!' % name_for_userid[userid]\n",
    "    except KeyError:\n",
    "        return 'Hi there'\n"
   ]
  },
  {
   "cell_type": "code",
   "execution_count": 23,
   "metadata": {},
   "outputs": [],
   "source": [
    "def greeting(userid):\n",
    "    return 'Hi %s!' % name_for_userid.get(userid, 'there')\n",
    "\n"
   ]
  },
  {
   "cell_type": "markdown",
   "metadata": {},
   "source": [
    "## Key notes\n",
    "- Avoid explicitly checking whether a given key is in a dictionary.\n",
    "- Rather use EAFP-style exception handling or the built-in `get()` method.\n",
    "- In some cases, the collections.defaultdict class from the standard library can also be useful."
   ]
  },
  {
   "cell_type": "markdown",
   "metadata": {},
   "source": [
    "## 7.2 Dictionarys sortieren"
   ]
  },
  {
   "cell_type": "markdown",
   "metadata": {},
   "source": [
    "Python dictionaries are not sorted. You can iterate over it, but there is no guarantee that the items will be returned in any particular order. But that changes with Python 3.6. However, it is often useful to create a sorted representation of a dictionary in which the elements are arranged according to their key, their value, or a derived property. Let's assume you have the dictionary xs with the following key-value pairs:"
   ]
  },
  {
   "cell_type": "code",
   "execution_count": 6,
   "metadata": {},
   "outputs": [],
   "source": [
    "xs = {'a': 4, 'c': 2, 'b': 3, 'd': 1}"
   ]
  },
  {
   "cell_type": "code",
   "execution_count": null,
   "metadata": {},
   "outputs": [],
   "source": []
  },
  {
   "cell_type": "code",
   "execution_count": 7,
   "metadata": {},
   "outputs": [
    {
     "data": {
      "text/plain": [
       "[('a', 4), ('b', 3), ('c', 2), ('d', 1)]"
      ]
     },
     "execution_count": 7,
     "metadata": {},
     "output_type": "execute_result"
    }
   ],
   "source": [
    "sorted(xs.items())"
   ]
  },
  {
   "cell_type": "markdown",
   "metadata": {},
   "source": [
    "Let's say you want to create an ordered representation of a dictionary based on its values. To do this, you can use the following key function, which returns the key-value pairs in the order of the second element in the individual tuples:"
   ]
  },
  {
   "cell_type": "code",
   "execution_count": null,
   "metadata": {},
   "outputs": [],
   "source": [
    "sorted(xs.items(), key=lambda x: x[1])"
   ]
  },
  {
   "cell_type": "markdown",
   "metadata": {},
   "source": [
    "The procedure is so common that the Python standard library contains the operator module, which contains the most frequently used key functions as plug-and-play components, e.g. B. `operator.itemgetter` and `operator.attrgetter`. The following example shows how to replace the index lookup with a lambda expression with `operator.itemgetter`:\n"
   ]
  },
  {
   "cell_type": "code",
   "execution_count": null,
   "metadata": {},
   "outputs": [],
   "source": [
    "import operator\n",
    "sorted(xs.items(), key=operator.itemgetter(1))"
   ]
  },
  {
   "cell_type": "code",
   "execution_count": null,
   "metadata": {},
   "outputs": [],
   "source": [
    "sorted(xs.items(), key=lambda x: abs(x[1]))"
   ]
  },
  {
   "cell_type": "code",
   "execution_count": 8,
   "metadata": {},
   "outputs": [
    {
     "data": {
      "text/plain": [
       "[('a', 4), ('b', 3), ('c', 2), ('d', 1)]"
      ]
     },
     "execution_count": 8,
     "metadata": {},
     "output_type": "execute_result"
    }
   ],
   "source": [
    "sorted(xs.items(), key=lambda x: x[1], reverse=True)"
   ]
  },
  {
   "cell_type": "markdown",
   "metadata": {},
   "source": [
    "### 7.2.1 Key items\n",
    "\n",
    "\n",
    "\n",
    "- If you create orderly views of dictionaries and other collections, you can control the sorting order with the help of a key function.\n",
    "- Key functions are important facilities in Python. The most frequently used ones are even available in the operator module in the standard library.\n",
    "- Functions are first class objects in Python. This is a versatile tool that you can use anywhere in the language.\n"
   ]
  },
  {
   "cell_type": "markdown",
   "metadata": {},
   "source": [
    "## 7.3 Emulating switch/case with Dictionarys"
   ]
  },
  {
   "cell_type": "markdown",
   "metadata": {},
   "source": [
    "There are no switch / case statements in Python. Therefore it is sometimes necessary to use long `if ... elif ... else` chains as an alternative solution. In this section, I'll show you a trick you can use to emulate switch / case statements in Python using dictionaries and first-class functions. Sounds good, doesn't it? So let's get started! Let's assume that our program contains the following if chain:\n"
   ]
  },
  {
   "cell_type": "code",
   "execution_count": 25,
   "metadata": {},
   "outputs": [],
   "source": [
    "# cond = 'cond_a'"
   ]
  },
  {
   "cell_type": "code",
   "execution_count": 20,
   "metadata": {},
   "outputs": [
    {
     "ename": "NameError",
     "evalue": "name 'cond' is not defined",
     "output_type": "error",
     "traceback": [
      "\u001b[0;31m---------------------------------------------------------------------------\u001b[0m",
      "\u001b[0;31mNameError\u001b[0m                                 Traceback (most recent call last)",
      "\u001b[0;32m<ipython-input-20-71b3ec9e999d>\u001b[0m in \u001b[0;36m<module>\u001b[0;34m\u001b[0m\n\u001b[0;32m----> 1\u001b[0;31m \u001b[0;32mif\u001b[0m \u001b[0mcond\u001b[0m \u001b[0;34m==\u001b[0m \u001b[0;34m'cond_a'\u001b[0m\u001b[0;34m:\u001b[0m\u001b[0;34m\u001b[0m\u001b[0;34m\u001b[0m\u001b[0m\n\u001b[0m\u001b[1;32m      2\u001b[0m     \u001b[0mhandle_a\u001b[0m\u001b[0;34m(\u001b[0m\u001b[0;34m)\u001b[0m\u001b[0;34m\u001b[0m\u001b[0;34m\u001b[0m\u001b[0m\n\u001b[1;32m      3\u001b[0m \u001b[0;32melif\u001b[0m \u001b[0mcond\u001b[0m \u001b[0;34m==\u001b[0m \u001b[0;34m'cond_b'\u001b[0m\u001b[0;34m:\u001b[0m\u001b[0;34m\u001b[0m\u001b[0;34m\u001b[0m\u001b[0m\n\u001b[1;32m      4\u001b[0m     \u001b[0mhandle_b\u001b[0m\u001b[0;34m(\u001b[0m\u001b[0;34m)\u001b[0m\u001b[0;34m\u001b[0m\u001b[0;34m\u001b[0m\u001b[0m\n\u001b[1;32m      5\u001b[0m \u001b[0;32melse\u001b[0m\u001b[0;34m:\u001b[0m\u001b[0;34m\u001b[0m\u001b[0;34m\u001b[0m\u001b[0m\n",
      "\u001b[0;31mNameError\u001b[0m: name 'cond' is not defined"
     ]
    }
   ],
   "source": [
    "if cond == 'cond_a':\n",
    "    handle_a()\n",
    "elif cond == 'cond_b':\n",
    "    handle_b()\n",
    "else:\n",
    "    handle_default()"
   ]
  },
  {
   "cell_type": "markdown",
   "metadata": {},
   "source": [
    "One way to deal with long `if ... elif ... else` statements is to replace them with dictionary lookup tables that emulate the behavior of switch / case statements. It takes advantage of the fact that Python uses first-class functions. This means that functions can be passed as arguments to other functions, returned as values by other functions, assigned to variables, and stored in data structures. For example, we can define a function and save it in a list for later access:"
   ]
  },
  {
   "cell_type": "code",
   "execution_count": 19,
   "metadata": {},
   "outputs": [],
   "source": [
    "def myfunc(a, b):\n",
    "    return a + b\n"
   ]
  },
  {
   "cell_type": "code",
   "execution_count": null,
   "metadata": {},
   "outputs": [],
   "source": [
    "uncs = [myfunc]"
   ]
  },
  {
   "cell_type": "code",
   "execution_count": null,
   "metadata": {},
   "outputs": [],
   "source": [
    "funcs[0]"
   ]
  },
  {
   "cell_type": "code",
   "execution_count": null,
   "metadata": {},
   "outputs": [],
   "source": [
    "funcs[0](2, 3)"
   ]
  },
  {
   "cell_type": "markdown",
   "metadata": {},
   "source": [
    "But how can we use first class functions to trim our chained if statement? The basic idea is to define a dictionary that maps the keys for looking up the input conditions to the functions that perform the desired operations:\n"
   ]
  },
  {
   "cell_type": "code",
   "execution_count": 24,
   "metadata": {},
   "outputs": [
    {
     "ename": "NameError",
     "evalue": "name 'handle_a' is not defined",
     "output_type": "error",
     "traceback": [
      "\u001b[0;31m---------------------------------------------------------------------------\u001b[0m",
      "\u001b[0;31mNameError\u001b[0m                                 Traceback (most recent call last)",
      "\u001b[0;32m<ipython-input-24-71d8ee7b7303>\u001b[0m in \u001b[0;36m<module>\u001b[0;34m\u001b[0m\n\u001b[0;32m----> 1\u001b[0;31m \u001b[0mfunc_dict\u001b[0m \u001b[0;34m=\u001b[0m \u001b[0;34m{\u001b[0m\u001b[0;34m'cond_a'\u001b[0m\u001b[0;34m:\u001b[0m \u001b[0mhandle_a\u001b[0m\u001b[0;34m,\u001b[0m \u001b[0;34m'cond_b'\u001b[0m\u001b[0;34m:\u001b[0m \u001b[0mhandle_b\u001b[0m\u001b[0;34m}\u001b[0m\u001b[0;34m\u001b[0m\u001b[0;34m\u001b[0m\u001b[0m\n\u001b[0m",
      "\u001b[0;31mNameError\u001b[0m: name 'handle_a' is not defined"
     ]
    }
   ],
   "source": [
    "func_dict = {'cond_a': handle_a, 'cond_b': handle_b}"
   ]
  },
  {
   "cell_type": "markdown",
   "metadata": {},
   "source": [
    "Instead of filtering using an if statement and checking the conditions one by one, we just look up a dictionary key to find the handler function, which we then call:\n"
   ]
  },
  {
   "cell_type": "code",
   "execution_count": null,
   "metadata": {},
   "outputs": [],
   "source": [
    "cond = 'cond_a'"
   ]
  },
  {
   "cell_type": "code",
   "execution_count": null,
   "metadata": {},
   "outputs": [],
   "source": [
    "func_dict[cond]()"
   ]
  },
  {
   "cell_type": "code",
   "execution_count": null,
   "metadata": {},
   "outputs": [],
   "source": [
    "func_dict.get(cond, handle_default)()"
   ]
  },
  {
   "cell_type": "code",
   "execution_count": null,
   "metadata": {},
   "outputs": [],
   "source": []
  },
  {
   "cell_type": "code",
   "execution_count": 17,
   "metadata": {},
   "outputs": [],
   "source": [
    "def dispatch_if(operator, x, y):\n",
    "\n",
    "    if operator == 'add':\n",
    "        return x + y\n",
    "    elif operator == 'sub':\n",
    "        return x - y\n",
    "    elif operator == 'mul':\n",
    "        return x * y\n",
    "    elif operator == 'div':\n",
    "        return x / y"
   ]
  },
  {
   "cell_type": "code",
   "execution_count": null,
   "metadata": {},
   "outputs": [],
   "source": [
    "dispatch_if('mul', 2, 8)"
   ]
  },
  {
   "cell_type": "markdown",
   "metadata": {},
   "source": [
    "The 'unknown' case works because Python implicitly adds the return None statement at the end of each function. So far so good. Let's convert the original function dispatch_if () into a version that uses a dictionary to assign the opcodes to the corresponding arithmetic operations:\n"
   ]
  },
  {
   "cell_type": "code",
   "execution_count": null,
   "metadata": {},
   "outputs": [],
   "source": [
    "def dispatch_dict(operator, x, y):\n",
    "\n",
    "...     return {\n",
    "\n",
    "...         'add': lambda: x + y,\n",
    "\n",
    "...         'sub': lambda: x - y,\n",
    "\n",
    "...         'mul': lambda: x * y,\n",
    "\n",
    "...         'div': lambda: x / y,\n",
    "\n",
    "...     }.get(operator, lambda: None)()"
   ]
  },
  {
   "cell_type": "markdown",
   "metadata": {},
   "source": [
    "## Key items\n",
    "\n",
    "- There are no switch / case statements in Python. In some cases, however, you can replace long if-chains with a dispatch table based on a dictionary.\n",
    "- Here, too, it turns out to be extremely versatile that functions in Python are first-class objects. But with great power comes great responsibility."
   ]
  },
  {
   "cell_type": "markdown",
   "metadata": {},
   "source": [
    "## 7.4 The craziest Dictionary expressions"
   ]
  },
  {
   "cell_type": "code",
   "execution_count": null,
   "metadata": {},
   "outputs": [],
   "source": [
    "{True: 'yes', 1: 'no', 1.0: 'maybe'}"
   ]
  },
  {
   "cell_type": "code",
   "execution_count": null,
   "metadata": {},
   "outputs": [],
   "source": [
    "xs = dict()"
   ]
  },
  {
   "cell_type": "code",
   "execution_count": null,
   "metadata": {},
   "outputs": [],
   "source": [
    "xs[True] = 'yes'\n",
    "xs[1] = 'no'\n",
    "xs[1.0] = 'maybe'\n"
   ]
  },
  {
   "cell_type": "code",
   "execution_count": null,
   "metadata": {},
   "outputs": [],
   "source": [
    "True == 1 == 1.0"
   ]
  },
  {
   "cell_type": "code",
   "execution_count": null,
   "metadata": {},
   "outputs": [],
   "source": [
    "{True: 'yes', 1: 'no', 1.0: 'maybe'}"
   ]
  },
  {
   "cell_type": "code",
   "execution_count": null,
   "metadata": {},
   "outputs": [],
   "source": []
  },
  {
   "cell_type": "code",
   "execution_count": 26,
   "metadata": {},
   "outputs": [],
   "source": [
    "\n",
    "class AlwaysEquals:\n",
    "\n",
    "    def __eq__(self, other):\n",
    "\n",
    "        return True\n",
    "\n",
    "    def __hash__(self):\n",
    "\n",
    "        return id(self)\n",
    "\n"
   ]
  },
  {
   "cell_type": "markdown",
   "metadata": {},
   "source": [
    "Second, each AlwaysEquals instance returns a unique hash value generated by the id () built-in function:\n"
   ]
  },
  {
   "cell_type": "code",
   "execution_count": null,
   "metadata": {},
   "outputs": [],
   "source": [
    "AlwaysEquals() == AlwaysEquals()"
   ]
  },
  {
   "cell_type": "code",
   "execution_count": null,
   "metadata": {},
   "outputs": [],
   "source": [
    "objects = [AlwaysEquals(),\n",
    "\n",
    "AlwaysEquals(),\n",
    "\n",
    "AlwaysEquals()]"
   ]
  },
  {
   "cell_type": "markdown",
   "metadata": {},
   "source": [
    "This class has two special features. First, their Dunder method always returns __eq__ True. Therefore, comparing instances of this class with any other object always results in equality:"
   ]
  },
  {
   "cell_type": "code",
   "execution_count": null,
   "metadata": {},
   "outputs": [],
   "source": [
    "[hash(obj) for obj in objects]"
   ]
  },
  {
   "cell_type": "markdown",
   "metadata": {},
   "source": [
    "Conversely, we can also check whether identical hash values are sufficient for keys to be overwritten:\n"
   ]
  },
  {
   "cell_type": "code",
   "execution_count": null,
   "metadata": {},
   "outputs": [],
   "source": [
    "\n",
    "class SameHash:\n",
    "\n",
    "def __hash__(self):\n",
    "\n",
    "return 1\n",
    "\n"
   ]
  },
  {
   "cell_type": "code",
   "execution_count": null,
   "metadata": {},
   "outputs": [],
   "source": [
    "a = SameHash()"
   ]
  },
  {
   "cell_type": "code",
   "execution_count": null,
   "metadata": {},
   "outputs": [],
   "source": [
    "b = SameHash()"
   ]
  },
  {
   "cell_type": "code",
   "execution_count": null,
   "metadata": {},
   "outputs": [],
   "source": [
    "a==b"
   ]
  },
  {
   "cell_type": "code",
   "execution_count": null,
   "metadata": {},
   "outputs": [],
   "source": [
    "hash(a), hash(b)"
   ]
  },
  {
   "cell_type": "markdown",
   "metadata": {},
   "source": [
    "As this example shows, the overwriting of the key is not triggered by hash conflicts alone. Dictionaries check for equality and compare the hash value to determine whether two keys are identical. In summary we can say: The dictionary expression ’{True: 'yes', 1: 'no', 1.0: 'maybe'}’ is evaluated to {True: 'maybe'}, since the keys True, 1 and 1.0 are equal and all have the same hash value:\n"
   ]
  },
  {
   "cell_type": "code",
   "execution_count": null,
   "metadata": {},
   "outputs": [],
   "source": [
    "True == 1 == 1.0"
   ]
  },
  {
   "cell_type": "code",
   "execution_count": null,
   "metadata": {},
   "outputs": [],
   "source": [
    "(hash(True), hash(1), hash(1.0))"
   ]
  },
  {
   "cell_type": "markdown",
   "metadata": {},
   "source": [
    "We've covered a lot of topics here, and this Python trick can seem pretty confusing at first. That's why I compared it to a Zen koan at the beginning. If you have trouble understanding the contents of this section, play through the code examples one at a time in a Python interpreter session. The reward is a deeper understanding of the internal mechanisms of Python.\n",
    "core items\n",
    "## Key points\n",
    "- Dictionaries treat keys as identical if a comparison using __eq__ results in equality and their hash values are equal.\n",
    "- Unexpected dictionary key conflicts lead to surprising results.\n"
   ]
  },
  {
   "cell_type": "markdown",
   "metadata": {},
   "source": [
    "## 7.5 So many ways to merge dictionaries"
   ]
  },
  {
   "cell_type": "markdown",
   "metadata": {},
   "source": [
    "Have you ever created a configuration system for one of your Python programs? In such a system you often have a data structure with standard configuration options that can be selectively overwritten by values from user inputs or another configuration source. I often use dictionaries as the underlying data structure for representing configuration keys and values. Therefore, I often need a way to merge the default values and the new values into a single dictionary with the final configuration values. More generally, sometimes you need to merge two or more dictionaries into one so that the resulting dictionary contains a combination of the keys and values from the source dictionaries. In this section, I'll show you two ways to do this. As a starting point, take a look at the following two source dictionaries:\n"
   ]
  },
  {
   "cell_type": "code",
   "execution_count": 10,
   "metadata": {},
   "outputs": [],
   "source": [
    "xs = {'a': 1, 'b': 2}"
   ]
  },
  {
   "cell_type": "code",
   "execution_count": 11,
   "metadata": {},
   "outputs": [],
   "source": [
    "ys = {'b': 3, 'c': 4}"
   ]
  },
  {
   "cell_type": "code",
   "execution_count": 12,
   "metadata": {},
   "outputs": [],
   "source": [
    "zs = {}\n",
    "zs.update(xs)\n",
    "zs.update(ys)"
   ]
  },
  {
   "cell_type": "code",
   "execution_count": 27,
   "metadata": {},
   "outputs": [],
   "source": [
    "\n",
    "def update(dict1, dict2):\n",
    "\n",
    "    for key, value in dict2.items():\n",
    "        dict1[key] = value\n",
    "\n"
   ]
  },
  {
   "cell_type": "code",
   "execution_count": null,
   "metadata": {},
   "outputs": [],
   "source": [
    "zs"
   ]
  },
  {
   "cell_type": "code",
   "execution_count": null,
   "metadata": {},
   "outputs": [],
   "source": [
    "{'c': 4, 'a': 1, 'b': 3}"
   ]
  },
  {
   "cell_type": "markdown",
   "metadata": {},
   "source": [
    "Another technique that you can use in both versions is to use the built-in function `dict ()` together with the operator `**` to unpack objects:\n"
   ]
  },
  {
   "cell_type": "code",
   "execution_count": null,
   "metadata": {},
   "outputs": [],
   "source": [
    "zs = dict(xs, **ys)"
   ]
  },
  {
   "cell_type": "markdown",
   "metadata": {},
   "source": [
    "However, this only works when two dictionaries are merged and cannot be used repeatedly like `update ()` to combine any number of dictionaries in one step. With Python 3.5, the `**` operator has been made more flexible. In Python 3.5+ there is another - and in my opinion nicer - way to merge any number of dictionaries:\n"
   ]
  },
  {
   "cell_type": "code",
   "execution_count": 30,
   "metadata": {},
   "outputs": [],
   "source": [
    "zs = {**xs, **ys}\n"
   ]
  },
  {
   "cell_type": "markdown",
   "metadata": {},
   "source": [
    "This expression produces the same result as a chain of `update ()` calls. The keys and values are taken from left to right. This is why the same conflict resolution strategy is used here: The right-hand side has priority, which is why a value in ys overwrites an existing value under the same key from xs. This becomes clear when you look at the dictionary resulting from this merge:\n"
   ]
  },
  {
   "cell_type": "markdown",
   "metadata": {},
   "source": [
    "# Key items\n",
    "\n",
    "- In Python 3.5 and higher, you can use the `**` operator to merge multiple dictionaries into one in a single expression. Existing keys are overwritten from left to right.\n",
    "- For compatibility with older Python versions, you can use the built-in dictionary method `update ()` instead.\n"
   ]
  },
  {
   "cell_type": "markdown",
   "metadata": {},
   "source": [
    "## 7.6 Dictionary pretty-printing"
   ]
  },
  {
   "cell_type": "markdown",
   "metadata": {},
   "source": [
    "Have you ever tried to find a bug in one of your programs by interspersing a series of print statements to keep track of the flow of execution? You may also have had to create a log message to output some configuration settings. It has all happened to me. And I was often frustrated with how difficult some data structures are to read in Python when they are output as text strings. For example, consider the following simple dictionary. If you output it in an interpreter session, the keys are in an arbitrary order and the resulting string is not indented:\n"
   ]
  },
  {
   "cell_type": "code",
   "execution_count": 34,
   "metadata": {},
   "outputs": [],
   "source": [
    "mapping = {'a': 23, 'b': 42, 'c': 0xc0ffee}"
   ]
  },
  {
   "cell_type": "code",
   "execution_count": 35,
   "metadata": {},
   "outputs": [
    {
     "data": {
      "text/plain": [
       "\"{'a': 23, 'b': 42, 'c': 12648430}\""
      ]
     },
     "execution_count": 35,
     "metadata": {},
     "output_type": "execute_result"
    }
   ],
   "source": [
    "str(mapping)"
   ]
  },
  {
   "cell_type": "code",
   "execution_count": 36,
   "metadata": {},
   "outputs": [],
   "source": [
    "import json"
   ]
  },
  {
   "cell_type": "code",
   "execution_count": 37,
   "metadata": {},
   "outputs": [
    {
     "data": {
      "text/plain": [
       "'{\\n    \"a\": 23,\\n    \"b\": 42,\\n    \"c\": 12648430\\n}'"
      ]
     },
     "execution_count": 37,
     "metadata": {},
     "output_type": "execute_result"
    }
   ],
   "source": [
    "json.dumps(mapping, indent=4, sort_keys=True)\n",
    "\n"
   ]
  },
  {
   "cell_type": "code",
   "execution_count": null,
   "metadata": {},
   "outputs": [],
   "source": [
    "json.dumps({all: 'yup'})"
   ]
  },
  {
   "cell_type": "markdown",
   "metadata": {},
   "source": [
    "Another disadvantage of `json.dumps ()` is that you cannot use it to convert complex data types such as sets to strings:\n"
   ]
  },
  {
   "cell_type": "code",
   "execution_count": null,
   "metadata": {},
   "outputs": [],
   "source": [
    "mapping['d'] = {1, 2, 3}"
   ]
  },
  {
   "cell_type": "code",
   "execution_count": null,
   "metadata": {},
   "outputs": [],
   "source": [
    "json.dumps(mapping)"
   ]
  },
  {
   "cell_type": "code",
   "execution_count": null,
   "metadata": {},
   "outputs": [],
   "source": [
    "import pprint"
   ]
  },
  {
   "cell_type": "code",
   "execution_count": null,
   "metadata": {},
   "outputs": [],
   "source": [
    "pprint.pprint(mapping)"
   ]
  },
  {
   "cell_type": "markdown",
   "metadata": {},
   "source": [
    "As you can see, pprint can also output data types such as quantities and put dictionary keys in a reproducible order. Compared to the standard string representation for dictionaries, the result is much easier to see.\n",
    "\n",
    "However, nested structures are visually not displayed as well as with `json.dumps ()`. This can be an advantage or a disadvantage depending on the situation. I occasionally use `json.dumps ()` to output dictionaries for better readability and formatting. But only if the dictionary is free of any non-primitive data types."
   ]
  },
  {
   "cell_type": "markdown",
   "metadata": {},
   "source": [
    "# Key items\n",
    "\n",
    "-     The standard conversion of dictionary objects to strings can be difficult to read.\n",
    "-     The pprint and json modules are in the Python standard library and provide higher quality output.\n",
    "-     Do not use `json.dumps ()` if the dictionary does not contain primitive data types as keys or values, as this would raise the TypeError.\n"
   ]
  },
  {
   "cell_type": "code",
   "execution_count": null,
   "metadata": {},
   "outputs": [],
   "source": []
  }
 ],
 "metadata": {
  "kernelspec": {
   "display_name": "Python 3",
   "language": "python",
   "name": "python3"
  },
  "language_info": {
   "codemirror_mode": {
    "name": "ipython",
    "version": 3
   },
   "file_extension": ".py",
   "mimetype": "text/x-python",
   "name": "python",
   "nbconvert_exporter": "python",
   "pygments_lexer": "ipython3",
   "version": "3.8.3"
  }
 },
 "nbformat": 4,
 "nbformat_minor": 4
}
